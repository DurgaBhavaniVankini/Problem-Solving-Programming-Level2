{
 "cells": [
  {
   "cell_type": "code",
   "execution_count": 22,
   "metadata": {},
   "outputs": [],
   "source": [
    "# Function to check name already exists or not\n",
    "import re\n",
    "from Packages import validators as b\n",
    "\n",
    "def contactVerification(name,filename):\n",
    "    with open(filename,'r') as f:  # To automatically close the file\n",
    "            for line1 in f:                \n",
    "                line1 = line1.split(\",\")\n",
    "                if line1[0] == name:\n",
    "                    return True\n",
    "                else:\n",
    "                    return False\n",
    "        \n",
    "# Function to save contacts to a file as name,phone,email\n",
    "def saveContacts(filename,filedata):\n",
    "    with open(filename, 'a') as f: # New data writing to the file\n",
    "        for line in filedata:\n",
    "            if not contactVerification(line,filename):\n",
    "                if b.phoneNumberValidator(str(filedata[line][0])) and b.emailValidator(filedata[line][1]):\n",
    "                    f.write(line+\",\"+str(filedata[line][0])+\",\"+str(filedata[line][1])+\"\\n\")\n",
    "                else:\n",
    "                    print(\"Phone or Email is incorrect\")\n",
    "            else:\n",
    "                print(\"Name already exists\")\n",
    "       # f.writelines(filedata)\n",
    "    return \n",
    "filename = 'Data Files/contacts.csv'\n",
    "contacts = {\"Durga\":['9556328345','durgabhavani.vankini@gmail.com']}\n",
    "filedata = contacts\n",
    "saveContacts(filename,contacts)\n",
    "\n",
    "    \n",
    "\n",
    "\n"
   ]
  },
  {
   "cell_type": "code",
   "execution_count": 26,
   "metadata": {},
   "outputs": [
    {
     "data": {
      "text/plain": [
       "[['bhavani', '8978263439', 'chari.vankini@gmail.com\\n'],\n",
       " ['Sai', '9445168323', 'vankini0924@gmail.com\\n'],\n",
       " ['Padma', '9652445730', 'durgabhavani.vankini@gmail.com\\n'],\n",
       " ['bhavani', '9556328345', 'durgabhavani.vankini@gmail.com\\n'],\n",
       " ['bhavani', '9556328345', 'durgabhavani.vankini@gmail.com\\n'],\n",
       " ['Durga', '9556328345', 'durgabhavani.vankini@gmail.com\\n']]"
      ]
     },
     "execution_count": 26,
     "metadata": {},
     "output_type": "execute_result"
    }
   ],
   "source": [
    "filename = 'Data Files/contacts.csv'\n",
    "li = []\n",
    "def csvFileToList(filename):\n",
    "    with open(filename, 'r') as f:\n",
    "        for line in f:\n",
    "            li.append(line.split(','))\n",
    "    return li\n",
    "    \n",
    "csvFileToList(filename) "
   ]
  },
  {
   "cell_type": "code",
   "execution_count": 31,
   "metadata": {},
   "outputs": [
    {
     "data": {
      "text/plain": [
       "'bhavani,8978263439,chari.vankini@gmail.com\\nSai,9445168323,vankini0924@gmail.com\\nPadma,9652445730,durgabhavani.vankini@gmail.com\\nbhavani,9556328345,durgabhavani.vankini@gmail.com\\nbhavani,9556328345,durgabhavani.vankini@gmail.com\\nDurga,9556328345,durgabhavani.vankini@gmail.com\\n'"
      ]
     },
     "execution_count": 31,
     "metadata": {},
     "output_type": "execute_result"
    }
   ],
   "source": [
    "def listToFile(li):\n",
    "    s = ''\n",
    "    for i in li:\n",
    "        s += ','.join(i)\n",
    "    return s\n",
    "listToFile(li)"
   ]
  },
  {
   "cell_type": "code",
   "execution_count": null,
   "metadata": {},
   "outputs": [],
   "source": []
  }
 ],
 "metadata": {
  "kernelspec": {
   "display_name": "Python 3",
   "language": "python",
   "name": "python3"
  },
  "language_info": {
   "codemirror_mode": {
    "name": "ipython",
    "version": 3
   },
   "file_extension": ".py",
   "mimetype": "text/x-python",
   "name": "python",
   "nbconvert_exporter": "python",
   "pygments_lexer": "ipython3",
   "version": "3.7.3"
  }
 },
 "nbformat": 4,
 "nbformat_minor": 2
}

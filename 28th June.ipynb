{
 "cells": [
  {
   "cell_type": "markdown",
   "metadata": {},
   "source": [
    " #### Functional Programming :\n",
    "               * Maps\n",
    "               * Lambda\n",
    "               * Built In Functions\n",
    "               * Use Cases"
   ]
  },
  {
   "cell_type": "markdown",
   "metadata": {},
   "source": [
    "#### Map\n",
    "\n",
    "Mapping - Entity with a function\n",
    "\n",
    "f : x^2 + 3*x + 9\n",
    "\n",
    "x : [1,10]\n",
    "\n",
    "f(x)\n",
    "\n",
    "f(1) --> 13\n",
    "f(2) --> 19\n",
    "...\n",
    "...\n",
    "..\n",
    "\n",
    "\n",
    "\n",
    "map( function, Iterable )\n",
    "\n",
    "\n"
   ]
  },
  {
   "cell_type": "code",
   "execution_count": 1,
   "metadata": {},
   "outputs": [
    {
     "data": {
      "text/plain": [
       "8"
      ]
     },
     "execution_count": 1,
     "metadata": {},
     "output_type": "execute_result"
    }
   ],
   "source": [
    "#def powerN(a,n):\n",
    "# Way 1 : return a **n\n",
    "\n",
    "# Way 2:    \n",
    "    # r = 1\n",
    "    # for i in range(1,n+1):\n",
    "    #   r *= a\n",
    "    # print(r)\n",
    "#powerN(2,0)       \n",
    "# Way 3:\n",
    "\n",
    "def recursivePowerN(a,n):\n",
    "    if n == 0:\n",
    "        return 1\n",
    "    else:\n",
    "        return a * recursivePowerN(a, n-1)\n",
    "\n",
    "    \n",
    "recursivePowerN(2,3)\n",
    "    \n"
   ]
  },
  {
   "cell_type": "code",
   "execution_count": 2,
   "metadata": {},
   "outputs": [
    {
     "data": {
      "text/plain": [
       "[1, 8, 27, 64, 125]"
      ]
     },
     "execution_count": 2,
     "metadata": {},
     "output_type": "execute_result"
    }
   ],
   "source": [
    "def cube(n):\n",
    "    return n ** 3\n",
    "\n",
    "cube(5)\n",
    "\n",
    "li = [1, 2, 3, 4, 5]\n",
    "list(map(cube,li))\n",
    "\n",
    "li = ['1','2','3','4','5']\n",
    "li2 = list(map(int,li))\n",
    "list(map(str,li2))\n",
    "tuple(map(str,li2))\n",
    "numbers = [int(i) for i in li]\n",
    "[cube(i) for i in numbers]"
   ]
  },
  {
   "cell_type": "markdown",
   "metadata": {},
   "source": [
    "### Filter\n",
    "\n",
    "- Used to check boolean true values\n",
    "- Using filter we can send single parameter to a function\n",
    "\n",
    "  f : x --> {T, F}\n",
    " \n",
    " y is subset of x\n",
    " \n",
    " isPrime\n",
    " \n",
    " x         y\n",
    " 1         \n",
    " 2         2\n",
    " 3         3\n",
    " 4\n",
    " 5         5"
   ]
  },
  {
   "cell_type": "code",
   "execution_count": 3,
   "metadata": {},
   "outputs": [
    {
     "data": {
      "text/plain": [
       "[1, 2, 3]"
      ]
     },
     "execution_count": 3,
     "metadata": {},
     "output_type": "execute_result"
    }
   ],
   "source": [
    "li = [1,2,'a','b',3]\n",
    "def isDigit(c):\n",
    "    c = str(c)\n",
    "    if c.isdigit():\n",
    "        return 1\n",
    "    return 0\n",
    "isDigit('a')\n",
    "li = list(filter(isDigit,li))\n",
    "li"
   ]
  },
  {
   "cell_type": "code",
   "execution_count": 4,
   "metadata": {},
   "outputs": [
    {
     "data": {
      "text/plain": [
       "[503, 509, 521, 523, 541, 547, 557, 563, 569, 571, 577, 587, 593, 599]"
      ]
     },
     "execution_count": 4,
     "metadata": {},
     "output_type": "execute_result"
    }
   ],
   "source": [
    "# Identify all primes in a range using filter\n",
    "def isPrime(p):\n",
    "    count = 0\n",
    "    for i in range(1,p+1):\n",
    "        if p % i == 0:\n",
    "            count += 1\n",
    "    if count == 2:\n",
    "        return 1\n",
    "    return 0\n",
    "n=11\n",
    "lb =500\n",
    "ub = 600\n",
    "li = [i for i in range(lb,ub+1)]\n",
    "\n",
    "list(filter(isPrime,li))\n",
    "list(filter(isPrime,range(lb,ub+1)))\n",
    "li = [i for i in range(lb,ub+1) if isPrime(i)]\n",
    "li\n",
    "\n",
    "# Map fails because map not applicable for condition checking\n",
    "\n"
   ]
  },
  {
   "cell_type": "markdown",
   "metadata": {},
   "source": [
    "### Lambda\n",
    "\n",
    "- Anonymous Functions\n",
    "- Can be embedded into list comprehension\n",
    "\n"
   ]
  },
  {
   "cell_type": "code",
   "execution_count": 5,
   "metadata": {},
   "outputs": [
    {
     "data": {
      "text/plain": [
       "[2, 4]"
      ]
     },
     "execution_count": 5,
     "metadata": {},
     "output_type": "execute_result"
    }
   ],
   "source": [
    "a = lambda x: x%2\n",
    "\n",
    "list(map(lambda x: x%2,[1,2,3,4,5]))\n",
    "\n",
    "list(filter(lambda x: x%2 == 0,[1,2,3,4,5]))\n"
   ]
  },
  {
   "cell_type": "code",
   "execution_count": 6,
   "metadata": {},
   "outputs": [
    {
     "data": {
      "text/plain": [
       "[5, 10, 12, 11, 7, 13]"
      ]
     },
     "execution_count": 6,
     "metadata": {},
     "output_type": "execute_result"
    }
   ],
   "source": [
    "import random\n",
    "internal1 =[random.randint(0,26) for i in range(0,10)]\n",
    "internal1\n",
    "internal2 =[random.randint(0,26) for i in range(0,10)]\n",
    "internal2\n",
    "internal3 =[random.randint(0,26) for i in range(0,10)]\n",
    "\n",
    "averageInternal = list(map(lambda x, y,z:(x+y+z)//3,internal1,internal2,internal3))\n",
    "averageInternal\n",
    "\n",
    "# To extract failed students using list,filter,lambda \n",
    "\n",
    "failed = list(filter(lambda x:x<15,averageInternal))\n",
    "failed"
   ]
  },
  {
   "cell_type": "markdown",
   "metadata": {},
   "source": [
    "#### Applying Functional Programming to the marks analysis application\n",
    "\n"
   ]
  },
  {
   "cell_type": "code",
   "execution_count": 7,
   "metadata": {},
   "outputs": [],
   "source": [
    "import random\n",
    "def generateMarksData(n, lb, ub):\n",
    "    filename = 'DataFiles/marks.txt'\n",
    "    with open(filename,'w') as f:\n",
    "        for i in range(n):\n",
    "            marks = random.randint(lb,ub+1)\n",
    "            f.write(str(marks)+'\\n')\n",
    "            \n",
    "generateMarksData(300,0,100)\n",
    "        \n",
    "    \n",
    "    "
   ]
  },
  {
   "cell_type": "code",
   "execution_count": 14,
   "metadata": {},
   "outputs": [
    {
     "data": {
      "text/plain": [
       "50"
      ]
     },
     "execution_count": 14,
     "metadata": {},
     "output_type": "execute_result"
    }
   ],
   "source": [
    "# Marks Analysis\n",
    "# Class Average , % of Passed, Failed and Distinction\n",
    "# Frequency of Highest and Lowest Marks\n",
    "def readMarksList(filepath):\n",
    "    with open(filepath,'r') as f:\n",
    "        filedata = f.read().split()\n",
    "        marksList = list(map(int,filedata)) \n",
    "        return marksList\n",
    "    \n",
    "def classAverage(filepath):\n",
    "    with open(filepath,'r') as f:\n",
    "        filedata = f.read().split()       \n",
    "        marksList = list(map(int,filedata))              \n",
    "        return (sum(marksList)//len(marksList))\n",
    "        \n",
    "        \n",
    "classAverage('DataFiles/marks.txt')        "
   ]
  },
  {
   "cell_type": "code",
   "execution_count": 15,
   "metadata": {},
   "outputs": [
    {
     "data": {
      "text/plain": [
       "38.666666666666664"
      ]
     },
     "execution_count": 15,
     "metadata": {},
     "output_type": "execute_result"
    }
   ],
   "source": [
    "def percentageFailed(filepath):\n",
    "    marksList = readMarksList(filepath)\n",
    "    failedCount = len(list(filter(lambda marks:marks<40,marksList)))\n",
    "    failedper = (failedCount/len(marksList))*100\n",
    "    return failedper\n",
    "        \n",
    "percentageFailed('DataFiles/marks.txt')"
   ]
  },
  {
   "cell_type": "code",
   "execution_count": 10,
   "metadata": {},
   "outputs": [
    {
     "data": {
      "text/plain": [
       "61.333333333333336"
      ]
     },
     "execution_count": 10,
     "metadata": {},
     "output_type": "execute_result"
    }
   ],
   "source": [
    "def percentagePassed(filepath):    \n",
    "    return 100 - percentageFailed(filepath)\n",
    "filepath = 'DataFiles/marks.txt'\n",
    "percentagePassed(filepath)"
   ]
  },
  {
   "cell_type": "code",
   "execution_count": 18,
   "metadata": {},
   "outputs": [
    {
     "data": {
      "text/plain": [
       "31.666666666666664"
      ]
     },
     "execution_count": 18,
     "metadata": {},
     "output_type": "execute_result"
    }
   ],
   "source": [
    "def distinctionper(filepath):\n",
    "    with open(filepath,'r') as f:\n",
    "        filedata = f.read().split()\n",
    "        marksList = list(map(int,filedata))        \n",
    "        distCount = len(list(filter(lambda marks:marks>70,marksList)))\n",
    "        distPer = (distCount/len(marksList))*100\n",
    "        return distPer\n",
    "\n",
    "distinctionper(filepath)"
   ]
  },
  {
   "cell_type": "code",
   "execution_count": 16,
   "metadata": {},
   "outputs": [
    {
     "data": {
      "text/plain": [
       "7"
      ]
     },
     "execution_count": 16,
     "metadata": {},
     "output_type": "execute_result"
    }
   ],
   "source": [
    "\n",
    "\n",
    "def highestMarksFrequency(filepath):\n",
    "    marksList = readMarksList(filepath)\n",
    "    return marksList.count(max(marksList))\n",
    "\n",
    "highestMarksFrequency(filepath)"
   ]
  },
  {
   "cell_type": "code",
   "execution_count": 17,
   "metadata": {},
   "outputs": [
    {
     "data": {
      "text/plain": [
       "1"
      ]
     },
     "execution_count": 17,
     "metadata": {},
     "output_type": "execute_result"
    }
   ],
   "source": [
    "def lowestMarksFrequency(filepath):\n",
    "    marksList = readMarksList(filepath)\n",
    "    return marksList.count(min(marksList))\n",
    "\n",
    "lowestMarksFrequency(filepath)"
   ]
  },
  {
   "cell_type": "markdown",
   "metadata": {},
   "source": [
    " ### Data Encryption\n",
    " \n",
    " Key - Mapping of characters with replaced values\n",
    " \n",
    "\n"
   ]
  },
  {
   "cell_type": "code",
   "execution_count": 23,
   "metadata": {},
   "outputs": [],
   "source": [
    "keypath = 'DataFiles/key.txt'\n",
    "\n",
    "def encryptedCode(keypath):\n",
    "    with open(keypath,'w') as f:\n",
    "        for i in range(10):\n",
    "            if i < 6:\n",
    "                f.write(str(i)+\" \"+str(i+4)+'\\n')\n",
    "            else:\n",
    "                f.write(str(i)+\" \"+str(i-6)+'\\n')\n",
    "encryptedCode(keypath)     "
   ]
  },
  {
   "cell_type": "code",
   "execution_count": 29,
   "metadata": {},
   "outputs": [
    {
     "data": {
      "text/plain": [
       "{'0': '4',\n",
       " '1': '5',\n",
       " '2': '6',\n",
       " '3': '7',\n",
       " '4': '8',\n",
       " '5': '9',\n",
       " '6': '0',\n",
       " '7': '1',\n",
       " '8': '2',\n",
       " '9': '3'}"
      ]
     },
     "execution_count": 29,
     "metadata": {},
     "output_type": "execute_result"
    }
   ],
   "source": [
    "# Function to encrypt a data file\n",
    "\n",
    "datafile = 'DataFiles/marks.txt'\n",
    "keyfile = 'DataFiles/key.txt'\n",
    "def keyDictionary(keyfile):\n",
    "    keydict = {}\n",
    "    with open(keyfile,'r') as f:\n",
    "        for line in f:\n",
    "            line = line.split()\n",
    "            keydict[line[0]] = line[1]\n",
    "    return keydict\n",
    "\n",
    "def encrypteddata(datafile,keyfile):\n",
    "    # construct a dictionary for key data\n",
    "    \n",
    "    with open(keypath,'w') as f:\n",
    "        for i in range(10):\n",
    "            if i < 6:\n",
    "                f.write(str(i)+\" \"+str(i+4)+'\\n')\n",
    "            else:\n",
    "                f.write(str(i)+\" \"+str(i-6)+'\\n')\n",
    "encryptedCode(keypath)\n",
    "        \n",
    "keyDictionary(keyfile)\n"
   ]
  },
  {
   "cell_type": "code",
   "execution_count": null,
   "metadata": {},
   "outputs": [],
   "source": []
  }
 ],
 "metadata": {
  "kernelspec": {
   "display_name": "Python 3",
   "language": "python",
   "name": "python3"
  },
  "language_info": {
   "codemirror_mode": {
    "name": "ipython",
    "version": 3
   },
   "file_extension": ".py",
   "mimetype": "text/x-python",
   "name": "python",
   "nbconvert_exporter": "python",
   "pygments_lexer": "ipython3",
   "version": "3.7.3"
  }
 },
 "nbformat": 4,
 "nbformat_minor": 2
}

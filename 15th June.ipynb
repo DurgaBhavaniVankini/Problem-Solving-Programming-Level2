{
 "cells": [
  {
   "cell_type": "code",
   "execution_count": null,
   "metadata": {},
   "outputs": [],
   "source": [
    "## HackerEarth Problems\n",
    "\n",
    "### 15th June"
   ]
  },
  {
   "cell_type": "code",
   "execution_count": 1,
   "metadata": {},
   "outputs": [
    {
     "name": "stdout",
     "output_type": "stream",
     "text": [
      "1 10 1\n",
      "10\n"
     ]
    }
   ],
   "source": [
    "# Count Divisors\n",
    "\n",
    "def findFactors(l, r, k):\n",
    "    count = 0\n",
    "    for i in range(l,r+1):\n",
    "        if(i % k == 0):\n",
    "            count = count + 1\n",
    "    print(count)\n",
    "    return \n",
    "    \n",
    "name = input()\n",
    " \n",
    "st = name.split(\" \")\n",
    "l = int(st[0])\n",
    "r = int(st[1])\n",
    "k = int(st[2])\n",
    " \n",
    "findFactors(l, r, k)"
   ]
  },
  {
   "cell_type": "code",
   "execution_count": 4,
   "metadata": {},
   "outputs": [
    {
     "name": "stdout",
     "output_type": "stream",
     "text": [
      "5\n",
      "120\n"
     ]
    }
   ],
   "source": [
    "# Find Factors\n",
    "\n",
    "def findFactorial(a):\n",
    "    sum = 1\n",
    "    for i in range(1,a+1):\n",
    "        sum = sum * i\n",
    "    \n",
    "    return sum\n",
    "        \n",
    "name = int(input())\n",
    " \n",
    "out = findFactorial(name)\n",
    "print(out)"
   ]
  },
  {
   "cell_type": "code",
   "execution_count": 8,
   "metadata": {},
   "outputs": [
    {
     "name": "stdout",
     "output_type": "stream",
     "text": [
      "asfsdg\n",
      "NO\n"
     ]
    }
   ],
   "source": [
    "# Find String Palindrome\n",
    "\n",
    "def findPalindrome(a):\n",
    "    b = a[::-1]\n",
    "    if b == a:\n",
    "        print(\"YES\")\n",
    "    else:\n",
    "        print(\"NO\")\n",
    "        \n",
    "    return\n",
    "   \n",
    " \n",
    " \n",
    "name = input()\n",
    " \n",
    "findPalindrome(name)\n",
    " "
   ]
  },
  {
   "cell_type": "code",
   "execution_count": null,
   "metadata": {},
   "outputs": [],
   "source": []
  },
  {
   "cell_type": "code",
   "execution_count": 3,
   "metadata": {},
   "outputs": [
    {
     "name": "stdout",
     "output_type": "stream",
     "text": [
      "9\n",
      "2 3 5 7 "
     ]
    }
   ],
   "source": [
    "# Function to print Prime Numbers\n",
    "\n",
    "def findPrimes(a):\n",
    "    for i in range(2,a+1):\n",
    "        for j in range(2,i):\n",
    "            if(i % j == 0):\n",
    "                break\n",
    "        else:\n",
    "            print(i,end=\" \")    \n",
    "                \n",
    "    \n",
    "\n",
    "name = int(input())\n",
    "\n",
    "findPrimes(name)\n",
    "\n"
   ]
  },
  {
   "cell_type": "code",
   "execution_count": null,
   "metadata": {},
   "outputs": [],
   "source": []
  },
  {
   "cell_type": "code",
   "execution_count": null,
   "metadata": {},
   "outputs": [
    {
     "name": "stdout",
     "output_type": "stream",
     "text": [
      "AbcdE\n",
      "aBCDe"
     ]
    }
   ],
   "source": [
    "# Toggle String\n",
    "\n",
    "def toggleString(a):\n",
    "    for i in a:\n",
    "        if(i.islower()):\n",
    "            F = i.upper()\n",
    "            print(F,end=\"\")\n",
    "        else:\n",
    "            F = i.lower()\n",
    "            print(F,end=\"\")\n",
    "    return\n",
    "    \n",
    "    \n",
    "    \n",
    "name = input()\n",
    " \n",
    "toggleString(name)\n",
    "\n",
    "\n",
    "# Alternative Way\n",
    "def toggleString(a):\n",
    "    capitals = ['A','B','C','D','E']\n",
    "    small = ['a','b','c','d','e']\n",
    "    new=\"\"\n",
    "    for j in a:\n",
    "        if i in capitals:\n",
    "            n=capitals.index(i)\n",
    "            new = new + small[n]\n",
    "        else:\n",
    "            m=small.index(i)\n",
    "            new = new + capitals[m]\n",
    "    print(new)\n",
    "            \n",
    "\n",
    "\n",
    "name = input()\n",
    " \n",
    "toggleString(name)\n",
    "\n",
    "\n",
    "\n"
   ]
  },
  {
   "cell_type": "code",
   "execution_count": null,
   "metadata": {},
   "outputs": [],
   "source": [
    "# Two Strings\n",
    "\n",
    "tc = int(input())\n",
    "for i in range(1,tc+1):\n",
    "    s = input()\n",
    "    sp1,sp2 = s.split(\" \")\n",
    "    if sorted(sp1) == sorted(sp2):\n",
    "        print(\"YES\")\n",
    "    else:\n",
    "        print(\"NO\")"
   ]
  },
  {
   "cell_type": "code",
   "execution_count": 2,
   "metadata": {},
   "outputs": [
    {
     "name": "stdout",
     "output_type": "stream",
     "text": [
      "bcd\n",
      "9\n"
     ]
    }
   ],
   "source": [
    "# Char Sum\n",
    "\n",
    "def findCharSum(name):\n",
    "    sum = 0\n",
    "    for i in name:\n",
    "        sum = sum + (ord(i)-96)\n",
    "    print(sum)\n",
    "    return\n",
    "\n",
    "\n",
    "name = input()\n",
    "findCharSum(name)"
   ]
  },
  {
   "cell_type": "code",
   "execution_count": null,
   "metadata": {},
   "outputs": [],
   "source": []
  }
 ],
 "metadata": {
  "kernelspec": {
   "display_name": "Python 3",
   "language": "python",
   "name": "python3"
  },
  "language_info": {
   "codemirror_mode": {
    "name": "ipython",
    "version": 3
   },
   "file_extension": ".py",
   "mimetype": "text/x-python",
   "name": "python",
   "nbconvert_exporter": "python",
   "pygments_lexer": "ipython3",
   "version": "3.7.3"
  }
 },
 "nbformat": 4,
 "nbformat_minor": 2
}

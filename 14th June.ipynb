{
 "cells": [
  {
   "cell_type": "markdown",
   "metadata": {},
   "source": [
    "## Problem Solving and Programming in Python\n",
    "\n",
    "### Day Objectives(14th June)\n",
    "\n",
    "* Python Data Structures \n",
    " * Lists\n",
    " * Tuples\n",
    " * Dictionaries\n",
    "* Basic Problem Set on Data Structures\n",
    "* Advanced Problem Set\n",
    "* Packages and Modules in Python\n"
   ]
  },
  {
   "cell_type": "markdown",
   "metadata": {},
   "source": [
    "## Python Data Structures\n",
    "\n",
    "### Lists"
   ]
  },
  {
   "cell_type": "code",
   "execution_count": 65,
   "metadata": {},
   "outputs": [
    {
     "data": {
      "text/plain": [
       "308.25"
      ]
     },
     "execution_count": 65,
     "metadata": {},
     "output_type": "execute_result"
    }
   ],
   "source": [
    "li = [123, 234, 999, 567,568]\n",
    "\n",
    "li # To access entire list\n",
    "\n",
    "li[1] # accessing an element through index\n",
    "\n",
    "li[1:] # accessing all elements from start index\n",
    "\n",
    "li[::-1] # Reverse order\n",
    "\n",
    "li[::2] # accessing even index elements\n",
    "\n",
    "li[1::2] # accessing odd index elements\n",
    "\n",
    "# Lists can be accessed, manipuleted in two different ways\n",
    "  # Direct referencing --> Accessing through index\n",
    "  # Indirect Referencing --> Through Functions\n",
    "\n",
    "\n",
    "li.append(345)# Adding an element to end of the list\n",
    "\n",
    "li.insert(1,222)# Adding an element at a particular index\n",
    "\n",
    "li.sort()  # Sorting elements in ascending order\n",
    "\n",
    "li.pop() # Remove last element in list\n",
    "\n",
    "li.pop(2) # Remove element at particular index\n",
    "\n",
    "li2 = [111,222,333]\n",
    "\n",
    "\n",
    "li.extend(li2)  # Merge list 2 to list\n",
    "\n",
    "sum(li)\n",
    "max(li)\n",
    "len(li)\n",
    "\n",
    "average = sum(li) / len(li)  # Average of list\n",
    "average\n",
    "\n",
    "\n",
    "\n",
    "sum(li[::2])/len(li[::2]) # Average of even list of elements\n",
    "\n",
    "sum(li[1::2])/len(li[1::2]) # Average of odd list of elements"
   ]
  },
  {
   "cell_type": "code",
   "execution_count": 69,
   "metadata": {},
   "outputs": [
    {
     "data": {
      "text/plain": [
       "3333"
      ]
     },
     "execution_count": 69,
     "metadata": {},
     "output_type": "execute_result"
    }
   ],
   "source": [
    "# Function to identify second largest element in a list\n",
    "\n",
    "def secondLargest(li):\n",
    "    li.sort()\n",
    "    return li[len(li)-2]\n",
    "\n",
    "secondLargest([123,563,333,444,444,333])\n",
    "\n",
    "\n",
    "# Function to get nth largest\n",
    "\n",
    "def genericLargest(li,n):\n",
    "    li.sort()\n",
    "    return li[len(li)-n]\n",
    "\n",
    "genericLargest([123,563,3333,667,1000,1000,444,3333,60000,60000],3)\n",
    "\n",
    "\n",
    "\n",
    "    "
   ]
  },
  {
   "cell_type": "code",
   "execution_count": 13,
   "metadata": {},
   "outputs": [
    {
     "name": "stdout",
     "output_type": "stream",
     "text": [
      "4 \n",
      "5 \n"
     ]
    },
    {
     "data": {
      "text/plain": [
       "2"
      ]
     },
     "execution_count": 13,
     "metadata": {},
     "output_type": "execute_result"
    }
   ],
   "source": [
    "# Function to search for key in a list then return index and if key is not in the list then return key not found\n",
    "\n",
    "def linearSearch(li,key):\n",
    "    for value in range(0,len(li)):\n",
    "        if(li[value] == key):\n",
    "            return value\n",
    "    return -1\n",
    "   \n",
    "\n",
    "linearSearch([123,563,3333,667,1000,1000,444,3333,60000,60000],1000)\n",
    "\n",
    "\n",
    "# Alternative Way\n",
    "\n",
    "def linearSearch2(li,key):\n",
    "    for value in li:\n",
    "        if(value == key):\n",
    "            return li.index(value)\n",
    "        \n",
    "    return -1\n",
    "\n",
    "linearSearch2([123,563,3333,667,1000,1000,444,3333,60000,60000],60000)\n",
    "\n",
    "\n",
    "def linearSearch3(li,key):\n",
    "    if key in li:\n",
    "        return li.index(key)\n",
    "    else:\n",
    "        return -1\n",
    "\n",
    "linearSearch3([123,563,3333,667,1000,1000,444,3333,60000,60000],1)\n",
    "\n",
    "\n",
    "def countDuplicates(li,key):\n",
    "    for i in range(0,len(li)):\n",
    "        if(li[i] == key):\n",
    "            print(str(i) + \" \")\n",
    "        \n",
    "        \n",
    "countDuplicates([123,563,3333,667,1000,1000,444,3333,60000,60000],1000)      \n",
    "        \n",
    "\n",
    "# Function to count Occurances of a character in String\n",
    "# \"Python Programming\", m --> 2\n",
    "\n",
    "def characterOccurance(a,b):\n",
    "    return a.count(b)\n",
    "\n",
    "characterOccurance(\"Python Programming\", \"gr\")\n",
    "\n",
    "\n",
    "def characterOccurance1(a,b):\n",
    "    count = 0\n",
    "    for ch in a:\n",
    "        if ch == b:\n",
    "            count += 1\n",
    "    return count\n",
    "\n",
    "characterOccurance1(\"Python Programming\", \"P\")\n",
    "\n",
    "\n",
    "    "
   ]
  },
  {
   "cell_type": "code",
   "execution_count": 116,
   "metadata": {},
   "outputs": [
    {
     "data": {
      "text/plain": [
       "[1, 2, 3, 4, 5, 8, 9]"
      ]
     },
     "execution_count": 116,
     "metadata": {},
     "output_type": "execute_result"
    }
   ],
   "source": [
    "s = \"1 2 3 4 5 8 9\"\n",
    "\n",
    "li = s.split()\n",
    "nList= []\n",
    "for i in li:\n",
    "    nList.append(int(i))\n",
    "nList"
   ]
  },
  {
   "cell_type": "code",
   "execution_count": 14,
   "metadata": {},
   "outputs": [
    {
     "name": "stdout",
     "output_type": "stream",
     "text": [
      "-100\n"
     ]
    }
   ],
   "source": [
    "# Function to find the number in an array which is closest to zero and if it has multiple values print lesses value.\n",
    "\n",
    "li = [-1,-2,1,-100,9]\n",
    "\n",
    "li.sort()\n",
    "\n",
    "li\n",
    "\n",
    "a = []\n",
    "\n",
    "for i in li:\n",
    "    a.append(abs(i))\n",
    "\n",
    "    \n",
    "a.sort()\n",
    "\n",
    "a\n",
    "\n",
    "if max(a) in li:\n",
    "    print(a[len(a)-1])\n",
    "else:\n",
    "    print(-a[len(a)-1])\n",
    "\n",
    "\n",
    "\n"
   ]
  },
  {
   "cell_type": "code",
   "execution_count": 54,
   "metadata": {},
   "outputs": [
    {
     "data": {
      "text/plain": [
       "8"
      ]
     },
     "execution_count": 54,
     "metadata": {},
     "output_type": "execute_result"
    }
   ],
   "source": [
    "# Given 3 numbers, a, b, c. Write a program to find the largest number \n",
    "# which is less than or equal to c and leaves a remainder b when divided by a\n",
    "\n",
    "def findSolution(a,b,c):\n",
    "    li = []\n",
    "    for i in range(c,a-1,-1):\n",
    "        if i % a == b:\n",
    "            li.append(i)\n",
    "    if(len(li) == 0):\n",
    "        return -1\n",
    "    else:\n",
    "        return max(li)\n",
    "            \n",
    "    \n",
    "        \n",
    "\n",
    "\n",
    "findSolution(3,2,9)"
   ]
  },
  {
   "cell_type": "code",
   "execution_count": 31,
   "metadata": {},
   "outputs": [
    {
     "data": {
      "text/plain": [
       "2"
      ]
     },
     "execution_count": 31,
     "metadata": {},
     "output_type": "execute_result"
    }
   ],
   "source": [
    "-8 % 5\n"
   ]
  },
  {
   "cell_type": "code",
   "execution_count": 93,
   "metadata": {},
   "outputs": [
    {
     "name": "stdout",
     "output_type": "stream",
     "text": [
      "i value:0\n",
      "j value:0\n",
      "k value:0\n",
      "j value:1\n",
      "k value:1\n",
      "j value:2\n",
      "k value:2\n",
      "i value:1\n",
      "j value:0\n",
      "k value:1\n",
      "i value:2\n",
      "j value:0\n",
      "k value:2\n",
      "count value:1\n",
      "i value:3\n",
      "j value:0\n",
      "k value:3\n",
      "i value:4\n",
      "j value:0\n",
      "k value:4\n",
      "j value:1\n",
      "k value:5\n",
      "j value:2\n",
      "k value:6\n",
      "i value:5\n",
      "j value:0\n",
      "k value:5\n",
      "i value:6\n",
      "j value:0\n",
      "k value:6\n",
      "i value:7\n",
      "j value:0\n",
      "k value:7\n"
     ]
    }
   ],
   "source": [
    "# Function to find no.of occurances of a substring in a string\n",
    "# \"abcdabcddb\" , \"ab\" --> 2\n",
    "\n",
    "def subStringOccurance(str1,str2):\n",
    "    count = 0\n",
    "    for i in range(0,len(str1)):\n",
    "        if(i == (len(str1)-len(str2)+1)):\n",
    "            break\n",
    "        else:\n",
    "            k = i\n",
    "            print(\"i value:\"+str(k))\n",
    "            for j in range(0,len(str2)):\n",
    "                print(\"j value:\"+str(j))\n",
    "                print(\"k value:\"+str(k))\n",
    "                if(str1[k] != str2[j]):\n",
    "                    break\n",
    "                else:\n",
    "                    k += 1\n",
    "        if(k == len(str2)-1):\n",
    "            count += 1                \n",
    "            print(\"count value:\"+str(count))\n",
    "                \n",
    "            \n",
    "    return\n",
    "            \n",
    "subStringOccurance(\"abcdabcddb\", \"abc\") \n"
   ]
  },
  {
   "cell_type": "code",
   "execution_count": 112,
   "metadata": {},
   "outputs": [
    {
     "name": "stdout",
     "output_type": "stream",
     "text": [
      "2\n"
     ]
    }
   ],
   "source": [
    "def subStringOccurance(str1,str2):\n",
    "    count = 0\n",
    "    for i in range(0,len(str1)):\n",
    "        k = i\n",
    "        \n",
    "        if(i == (len(str1)-len(str2)+1)):\n",
    "            break\n",
    "        else:            \n",
    "            for j in range(0,len(str2)):\n",
    "                \n",
    "                if(str1[k] != str2[j]):\n",
    "                    break\n",
    "                else:\n",
    "                    k += 1                   \n",
    "            if(j == len(str2)-1):\n",
    "                count += 1                \n",
    "                      \n",
    "    print(count)       \n",
    "    return\n",
    "            \n",
    "subStringOccurance(\"abcdabcddb\", \"cdd\") \n"
   ]
  },
  {
   "cell_type": "code",
   "execution_count": null,
   "metadata": {},
   "outputs": [],
   "source": []
  }
 ],
 "metadata": {
  "kernelspec": {
   "display_name": "Python 3",
   "language": "python",
   "name": "python3"
  },
  "language_info": {
   "codemirror_mode": {
    "name": "ipython",
    "version": 3
   },
   "file_extension": ".py",
   "mimetype": "text/x-python",
   "name": "python",
   "nbconvert_exporter": "python",
   "pygments_lexer": "ipython3",
   "version": "3.7.3"
  }
 },
 "nbformat": 4,
 "nbformat_minor": 2
}

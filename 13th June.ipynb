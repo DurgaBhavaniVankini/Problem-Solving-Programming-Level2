{
 "cells": [
  {
   "cell_type": "code",
   "execution_count": 30,
   "metadata": {},
   "outputs": [
    {
     "data": {
      "text/plain": [
       "'nhy'"
      ]
     },
     "execution_count": 30,
     "metadata": {},
     "output_type": "execute_result"
    }
   ],
   "source": [
    "a = \"Python\"\n",
    "\n",
    "a[len(a)-1]\n",
    "a[0:2]\n",
    "a[len(a)-2:len(a)]\n",
    "a[1:-1] # Eliminating first and last character\n",
    "a[len(a)//2] # Accessing Middle Character\n",
    "a[-1::-1] # Reverse of a String\n",
    " # get last two characters in reverse order\n",
    "\n",
    "a[len(a)//2:len(a)//2-2:-1] \n",
    "a[::2] # to get alternative characters from the first character\n",
    "\n",
    "a[::-2] # To get alternative characters in reverse order\n",
    "\n",
    "\n"
   ]
  },
  {
   "cell_type": "code",
   "execution_count": 182,
   "metadata": {},
   "outputs": [
    {
     "data": {
      "text/plain": [
       "'nohtyP'"
      ]
     },
     "execution_count": 182,
     "metadata": {},
     "output_type": "execute_result"
    }
   ],
   "source": [
    "s=\"Python\"\n",
    "\n",
    "s[-1::-1]"
   ]
  },
  {
   "cell_type": "markdown",
   "metadata": {},
   "source": [
    "## Functions"
   ]
  },
  {
   "cell_type": "code",
   "execution_count": 24,
   "metadata": {},
   "outputs": [
    {
     "data": {
      "text/plain": [
       "'inavahB'"
      ]
     },
     "execution_count": 24,
     "metadata": {},
     "output_type": "execute_result"
    }
   ],
   "source": [
    "# Function to reverse a String\n",
    "\n",
    "def reverseString(s):\n",
    "    return s[::-1]\n",
    "\n",
    "reverseString(\"Bhavani\")"
   ]
  },
  {
   "cell_type": "code",
   "execution_count": 28,
   "metadata": {},
   "outputs": [
    {
     "data": {
      "text/plain": [
       "True"
      ]
     },
     "execution_count": 28,
     "metadata": {},
     "output_type": "execute_result"
    }
   ],
   "source": [
    "# Fuction to check string is palindrome\n",
    "def palindrome(s):\n",
    "    if s == s[::-1]:\n",
    "        return True\n",
    "    else:\n",
    "        return False   \n",
    "    \n",
    "palindrome(\"iti\")\n",
    "    "
   ]
  },
  {
   "cell_type": "code",
   "execution_count": 34,
   "metadata": {},
   "outputs": [
    {
     "data": {
      "text/plain": [
       "True"
      ]
     },
     "execution_count": 34,
     "metadata": {},
     "output_type": "execute_result"
    }
   ],
   "source": [
    "# Function to check given year is a leap year\n",
    "def isLeapYear(year):\n",
    "    if year % 400 == 0 or (year % 100 != 0 and year % 4 == 0):\n",
    "        return True\n",
    "    else:\n",
    "        return False\n",
    "\n",
    "isLeapYear(2020)"
   ]
  },
  {
   "cell_type": "code",
   "execution_count": 35,
   "metadata": {},
   "outputs": [
    {
     "data": {
      "text/plain": [
       "6"
      ]
     },
     "execution_count": 35,
     "metadata": {},
     "output_type": "execute_result"
    }
   ],
   "source": [
    "# Function to count number of digits\n",
    "\n",
    "def countDigits(num):\n",
    "    return len(str(num))\n",
    "\n",
    "countDigits(123456)"
   ]
  },
  {
   "cell_type": "code",
   "execution_count": 38,
   "metadata": {},
   "outputs": [
    {
     "data": {
      "text/plain": [
       "35"
      ]
     },
     "execution_count": 38,
     "metadata": {},
     "output_type": "execute_result"
    }
   ],
   "source": [
    "# Functions to Identify the greatest of 4 numbers\n",
    "\n",
    "def greatest4(n1,n2,n3,n4):\n",
    "    if n1>n2 and n1>n3 and n1>n4:\n",
    "        return n1\n",
    "    elif n2>n3 and n2>n4:\n",
    "        return n2\n",
    "    elif n3>n4:\n",
    "        return n4\n",
    "    \n",
    "greatest4(23,35,12,25)\n",
    "        "
   ]
  },
  {
   "cell_type": "markdown",
   "metadata": {},
   "source": [
    "## Iteration\n",
    "\n",
    "* for\n",
    "* while"
   ]
  },
  {
   "cell_type": "code",
   "execution_count": 47,
   "metadata": {},
   "outputs": [
    {
     "name": "stdout",
     "output_type": "stream",
     "text": [
      "1 7 13 19 "
     ]
    }
   ],
   "source": [
    "# Function to print n natural numbers\n",
    "\n",
    "def printNaturalNumbers(n):\n",
    "    for counter in range(1,n+1,6):\n",
    "        print(counter,end=\" \")\n",
    "    return\n",
    "\n",
    "printNaturalNumbers(20)\n"
   ]
  },
  {
   "cell_type": "code",
   "execution_count": 56,
   "metadata": {},
   "outputs": [
    {
     "name": "stdout",
     "output_type": "stream",
     "text": [
      "204 210 216 222 228 234 240 246 252 258 264 270 276 282 288 294 "
     ]
    }
   ],
   "source": [
    "# Function to print all numbers divisible by 6\n",
    "# and not a factor of 100 in a given range(a,b) inclusive\n",
    "\n",
    "\n",
    "def numDivisibleBy6(a,b):\n",
    "    for counter in range(a,b+1):\n",
    "        if counter % 6 == 0 and counter % 100 != 0:\n",
    "            print(counter,end=\" \")\n",
    "    return \n",
    "        \n",
    "numDivisibleBy6(200,300)\n",
    "            "
   ]
  },
  {
   "cell_type": "code",
   "execution_count": 62,
   "metadata": {},
   "outputs": [
    {
     "name": "stdout",
     "output_type": "stream",
     "text": [
      "360.0\n"
     ]
    }
   ],
   "source": [
    "# Function to find the average of cubes of all even numbers in a given range inclusive\n",
    "\n",
    "def findAverageOfCubes(a,b):\n",
    "    count = 0\n",
    "    sum = 0\n",
    "    for counter in range(a,b+1):\n",
    "        if counter % 2 == 0:\n",
    "            count = count + 1\n",
    "            sum = sum + counter*counter*counter\n",
    "           \n",
    "    average = sum / count\n",
    "    print(average)\n",
    "   \n",
    "    return\n",
    "\n",
    "findAverageOfCubes(1,10)\n",
    "        "
   ]
  },
  {
   "cell_type": "code",
   "execution_count": 64,
   "metadata": {},
   "outputs": [
    {
     "name": "stdout",
     "output_type": "stream",
     "text": [
      "1\n",
      "2\n",
      "5\n",
      "10\n"
     ]
    }
   ],
   "source": [
    "# Function to generate the list of factors for a given number inclusive\n",
    "\n",
    "def findFactors(a):\n",
    "    for counter in range(1,a+1):\n",
    "        if a % counter == 0:\n",
    "            print(counter)       \n",
    "    return\n",
    "\n",
    "findFactors(10)\n",
    "    "
   ]
  },
  {
   "cell_type": "code",
   "execution_count": 69,
   "metadata": {},
   "outputs": [
    {
     "name": "stdout",
     "output_type": "stream",
     "text": [
      "720\n"
     ]
    }
   ],
   "source": [
    "# Function to find factorial of given Number\n",
    "\n",
    "def findFactorial(a):\n",
    "    sum = 1\n",
    "    for counter in range(1,a):\n",
    "        sum = sum + counter * sum\n",
    "        \n",
    "    print(sum)\n",
    "    return\n",
    "\n",
    "findFactorial(6)\n",
    "\n"
   ]
  },
  {
   "cell_type": "code",
   "execution_count": 2,
   "metadata": {},
   "outputs": [
    {
     "name": "stdout",
     "output_type": "stream",
     "text": [
      "Prime\n"
     ]
    }
   ],
   "source": [
    "# Function to check given number is a prime\n",
    "\n",
    "\n",
    "def isPrime(a):\n",
    "    flag = False\n",
    "    if(a % 2 == 0 and a != 2):\n",
    "        flag = True\n",
    "        print(\"Not Prime\")\n",
    "    else:\n",
    "        for i in range(2,a):\n",
    "            if(a % i == 0):\n",
    "                flag = True                \n",
    "                break\n",
    "            else:\n",
    "                flag = False\n",
    "    if(flag):\n",
    "        print(\"Not Prime\")\n",
    "    else:\n",
    "        print(\"Prime\")\n",
    "    return\n",
    "    \n",
    "isPrime(2)"
   ]
  },
  {
   "cell_type": "code",
   "execution_count": 175,
   "metadata": {},
   "outputs": [
    {
     "name": "stdout",
     "output_type": "stream",
     "text": [
      "a value:2\n",
      "a value:3\n",
      "3\n",
      "1\n",
      "2\n"
     ]
    }
   ],
   "source": [
    "# Function to calculate the average first N Prime numbers\n",
    "\n",
    "def primeAverage(b):\n",
    "    \n",
    "    average = 0\n",
    "    flag = False\n",
    "    for a in range(2,10):\n",
    "        count = 0\n",
    "        sum = 0\n",
    "        print(\"a value:\"+str(a))\n",
    "        if(a % 2 == 0):\n",
    "            flag = True\n",
    "            count = 0\n",
    "        else:\n",
    "            print(a)\n",
    "            for i in range(1,a):\n",
    "                if(a % i == 0):\n",
    "                    flag = True\n",
    "                    count = 0\n",
    "                else:\n",
    "                    flag =False\n",
    "                    if(count == b):\n",
    "                        average = sum / count\n",
    "                    else:\n",
    "                        count = count + 1\n",
    "                        sum = sum + i\n",
    "                        print(count)\n",
    "                        print(sum)\n",
    "                        \n",
    "            \n",
    "            \n",
    "            return\n",
    "\n",
    "primeAverage(5)"
   ]
  },
  {
   "cell_type": "code",
   "execution_count": 137,
   "metadata": {},
   "outputs": [
    {
     "name": "stdout",
     "output_type": "stream",
     "text": [
      "6\n",
      "28\n",
      "496\n"
     ]
    }
   ],
   "source": [
    "# Function to generate all Perfect numbers in a given range\n",
    "\n",
    "def findPerfectNumber(a,b):\n",
    "    \n",
    "    for count in range(a,b+1):\n",
    "        sum = 0\n",
    "        for i in range(1,count+1):\n",
    "            if(count % i == 0):\n",
    "                sum = sum + i\n",
    "            \n",
    "        \n",
    "        if(count == sum/2):\n",
    "            print(count)\n",
    "        \n",
    "        \n",
    "    return \n",
    "        \n",
    "findPerfectNumber(1,500)\n",
    "        \n",
    "            \n",
    "    "
   ]
  },
  {
   "cell_type": "code",
   "execution_count": null,
   "metadata": {},
   "outputs": [],
   "source": [
    "\n",
    "        "
   ]
  },
  {
   "cell_type": "code",
   "execution_count": 229,
   "metadata": {},
   "outputs": [
    {
     "data": {
      "text/plain": [
       "205248"
      ]
     },
     "execution_count": 229,
     "metadata": {},
     "output_type": "execute_result"
    }
   ],
   "source": [
    "# Function to calculate number of hours in given period\n",
    "\n",
    "def findHours(a,b,c,d):\n",
    "    # calculating hours for middle years\n",
    "    count1 = 0\n",
    "    count2 = 0\n",
    "    \n",
    "    for i in range(b+1,d):\n",
    "        if(i % 400 == 0 or (i % 100 != 0 and i % 4 == 0)):\n",
    "            count1 = count1 + 1\n",
    "        else:\n",
    "            count2 = count2 +1\n",
    "           \n",
    "    leapHours1 = count1 * 366\n",
    "   \n",
    "    norHours1 = count2 * 365\n",
    "    \n",
    "    finalSum1 = leapHours1 + norHours1\n",
    "    \n",
    "   \n",
    "   \n",
    "    # Calculating hours for months\n",
    "    \n",
    "    sum = 0\n",
    "    for days in range(a,13):\n",
    "        if(days > 7):\n",
    "            if(days % 2 == 0):\n",
    "                sum = sum + 31 \n",
    "                \n",
    "            else:\n",
    "                sum = sum + 30 \n",
    "            \n",
    "                \n",
    "        else:\n",
    "            if(days == 2):\n",
    "                if(b % 400 == 0 or (b % 100 != 0 and b% 4 == 0)):\n",
    "                    sum = sum + 29 \n",
    "                    \n",
    "                else:\n",
    "                    sum = sum + 28 \n",
    "                    \n",
    "            else:\n",
    "                if(days % 2 == 0):\n",
    "                    sum = sum + 30\n",
    "                   \n",
    "                else:\n",
    "                    sum = sum + 31\n",
    "                    \n",
    "            \n",
    "              \n",
    "    for days1 in range(1,c+1):\n",
    "        if(days1 > 7):\n",
    "            if(days1 % 2 == 0):\n",
    "                sum = sum + 31\n",
    "            else:\n",
    "                sum = sum + 30\n",
    "        else:\n",
    "            if(days1 == 2):\n",
    "                if(d % 400 == 0 or (d % 100 != 0 and d % 4 == 0)):\n",
    "                    sum = sum + 29\n",
    "                else:\n",
    "                    sum = sum + 28\n",
    "            else:\n",
    "                if(days1 % 2 == 0):\n",
    "                    sum = sum + 30\n",
    "                else:\n",
    "                    sum = sum + 31 \n",
    "                      \n",
    "    finalSum = (sum + finalSum1)*24\n",
    "    return finalSum\n",
    "\n",
    "\n",
    "findHours(11,1975,3,1999)\n",
    "                    \n",
    "                \n",
    "        \n",
    "     \n",
    "    \n",
    "    \n",
    "    \n",
    "            "
   ]
  },
  {
   "cell_type": "code",
   "execution_count": null,
   "metadata": {},
   "outputs": [],
   "source": []
  },
  {
   "cell_type": "code",
   "execution_count": null,
   "metadata": {},
   "outputs": [],
   "source": [
    "    "
   ]
  }
 ],
 "metadata": {
  "kernelspec": {
   "display_name": "Python 3",
   "language": "python",
   "name": "python3"
  },
  "language_info": {
   "codemirror_mode": {
    "name": "ipython",
    "version": 3
   },
   "file_extension": ".py",
   "mimetype": "text/x-python",
   "name": "python",
   "nbconvert_exporter": "python",
   "pygments_lexer": "ipython3",
   "version": "3.7.3"
  }
 },
 "nbformat": 4,
 "nbformat_minor": 2
}

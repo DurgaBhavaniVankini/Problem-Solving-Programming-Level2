{
 "cells": [
  {
   "cell_type": "markdown",
   "metadata": {},
   "source": [
    "### Regular Expressions\n",
    "\n",
    "- Pattern Matching\n",
    "- Symbolic Notation of a pattern\n",
    "    - Pattern : Format which repeats\n",
    "    - Regular Expression - represents set of all strings that match to the particular pattern\n",
    "- [0-9] --> Any digit\n",
    "- [a-z] --> Any lower case alphabet\n",
    "- [A-Z]\n",
    "- [2468] or [8642] or [2864] ...etc .--> All single digitb multiples of 2\n",
    "\n",
    "- ^[0-9]{1}$ --> Accept single digit numbers\n",
    "\n",
    "- ^[0-9]{3}$ --> Accept 3 digit numbers\n",
    "\n",
    "- ^[0-9]{2} --> Highlet first two digits\n",
    "\n",
    "- [0-9]{2}$ --> Highlet last 3 digits\n",
    "\n",
    "- ^[0-9]*[0]$ --> Multiples of 10\n",
    "\n",
    "- ^[1-9][0-9]*[0]$ --> Multiples of 10 excluding 0\n",
    "\n",
    "- (^[1-9][0-9]*[0/5])$|^([5])$ --> All multiples of 5\n",
    "\n",
    "- ^[0-9]{10}$ --> Validating a phone number or 10 digit numbers\n",
    "\n",
    "- ^[6-9][0-9]{9}$|^[0][6-9][0-9]{9}$  --> Validating phone number (start with 9876 followed by 9 digits)\n",
    "\n",
    "- [p][r][i][n][t] --> Occurances of a word (Print) in a text file\n",
    "- Email Validation(Username@domain.extension)\n",
    "  - Username\n",
    "    - length [6,15]\n",
    "    - No special characters other than _.\n",
    "    - Begin with numbers not with _.\n",
    "    - not end with _.\n",
    "    - characters set : all digits and alphabet\n",
    "  - Domain\n",
    "    - length [3, 18]\n",
    "    - not allow special characters\n",
    "    - character set : all digits and alphabets\n",
    "  -extension\n",
    "    - length [2, 4]\n",
    "    - not allow numbers and special characters\n",
    "    - character set - only alphabet\n",
    "   \n",
    " ^[a-z0-9][a-z0-9_.]{5,19}[0-9a-z][@][a-z0-9]{3,18}[.][a-z]{2,4}\n",
    " \n",
    " ^[a-z0-9][a-z0-9_.]{5,19}[0-9a-z][@][a-z0-9][0-9a-z.]{3,17}[0-9a-z][.][a-z]{2,4}$\n",
    " \n",
    "- ^[a].*[z]$ --> Any string of any length starting with 'a' and ends with 'z'\n",
    "\n"
   ]
  },
  {
   "cell_type": "code",
   "execution_count": null,
   "metadata": {},
   "outputs": [],
   "source": []
  },
  {
   "cell_type": "code",
   "execution_count": 6,
   "metadata": {},
   "outputs": [
    {
     "data": {
      "text/plain": [
       "False"
      ]
     },
     "execution_count": 6,
     "metadata": {},
     "output_type": "execute_result"
    }
   ],
   "source": [
    "# Function to validate a phone number\n",
    "\n",
    "import re\n",
    "\n",
    "\n",
    "def phoneNumberValidator(P):\n",
    "    pattern = '^[6-9][0-9]{9}$|^[0][6-9][0-9]{9}$'\n",
    "    if re.match(pattern,P):\n",
    "        return True\n",
    "    else:\n",
    "        return False\n",
    "    \n",
    "\n",
    "phoneNumberValidator(\"9652445730765\")"
   ]
  },
  {
   "cell_type": "code",
   "execution_count": 7,
   "metadata": {},
   "outputs": [
    {
     "data": {
      "text/plain": [
       "True"
      ]
     },
     "execution_count": 7,
     "metadata": {},
     "output_type": "execute_result"
    }
   ],
   "source": [
    "# Function to validate Email\n",
    "\n",
    "def emailValidator(email):\n",
    "    pattern = '^[a-z0-9][a-z0-9_.]{5,19}[0-9a-z][@][a-z0-9]{3,18}[.][a-z]{2,4}'\n",
    "    if re.match(pattern,email):\n",
    "        return True\n",
    "    else:\n",
    "        return False\n",
    "    \n",
    "emailValidator(\"durgabhavani.vankini@gmail.com\")"
   ]
  },
  {
   "cell_type": "code",
   "execution_count": 8,
   "metadata": {},
   "outputs": [
    {
     "name": "stdout",
     "output_type": "stream",
     "text": [
      "Contact added\n"
     ]
    },
    {
     "data": {
      "text/plain": [
       "{'bhavani': ['9556328345', 'durgabhavani.vankini@gmail.com'],\n",
       " 'sai1': ['9652445735', 'bhavani.vankini@gmail.com']}"
      ]
     },
     "execution_count": 8,
     "metadata": {},
     "output_type": "execute_result"
    }
   ],
   "source": [
    "contacts = {\"bhavani\":['9556328345','durgabhavani.vankini@gmail.com']}\n",
    "def addContact(name,number,email):\n",
    "    if name in contacts:\n",
    "        print(\"Name already exists\")\n",
    "    else:\n",
    "        if phoneNumberValidator(number) and emailValidator(email):\n",
    "            contacts[name] = [number,email]        \n",
    "            print(\"Contact added\")\n",
    "        if not phoneNumberValidator(number):\n",
    "            print(\"Invalid Number\")\n",
    "        if not emailValidator(email):\n",
    "            print(\"Invalid Email\")\n",
    "    return contacts\n",
    "\n",
    "addContact(\"sai1\",\"9652445735\",\"bhavani.vankini@gmail.com\")"
   ]
  },
  {
   "cell_type": "code",
   "execution_count": 9,
   "metadata": {},
   "outputs": [
    {
     "name": "stdout",
     "output_type": "stream",
     "text": [
      "sai1\n",
      "Phone : 9652445735\n",
      "Email : bhavani.vankini@gmail.com\n"
     ]
    }
   ],
   "source": [
    "def searchContact(name):\n",
    "    if name in contacts:\n",
    "        print(name)\n",
    "        print(\"Phone :\",contacts[name][0])\n",
    "        print(\"Email :\",contacts[name][1])\n",
    "    else:\n",
    "        print(\"Contact does not exists\")\n",
    "        \n",
    "searchContact(\"sai1\")\n"
   ]
  },
  {
   "cell_type": "code",
   "execution_count": 10,
   "metadata": {},
   "outputs": [
    {
     "name": "stdout",
     "output_type": "stream",
     "text": [
      "bhavani\n",
      " Phone : 9556328345\n",
      " Email : durgabhavani.vankini@gmail.com\n",
      "sai1\n",
      " Phone : 9652445735\n",
      " Email : bhavani.vankini@gmail.com\n"
     ]
    }
   ],
   "source": [
    "def listContacts():\n",
    "    for i in contacts:\n",
    "        print(i)\n",
    "        print(\" Phone :\",contacts[i][0])\n",
    "        print(\" Email :\",contacts[i][1])\n",
    "    return\n",
    "listContacts()"
   ]
  },
  {
   "cell_type": "code",
   "execution_count": 22,
   "metadata": {},
   "outputs": [
    {
     "name": "stdout",
     "output_type": "stream",
     "text": [
      "Contact Modified\n"
     ]
    },
    {
     "data": {
      "text/plain": [
       "{'bhavani': ['8978263439', 'chari.vankini@gmail.com'],\n",
       " 'Sai': [9177267818, 'vankini0924@gmail.com'],\n",
       " 'Padma': [897652622, 'padma.vankini@gmail.com']}"
      ]
     },
     "execution_count": 22,
     "metadata": {},
     "output_type": "execute_result"
    }
   ],
   "source": [
    "def modifyContacts(contacts,name,num,email):\n",
    "    if name in contacts:\n",
    "        contacts[name] = [num,email]\n",
    "        print(\"Contact Modified\")\n",
    "    else:\n",
    "        print(\"Contact does not exists\")\n",
    "    return contacts\n",
    "modifyContacts(contacts,\"bhavani\",\"8978263439\",\"chari.vankini@gmail.com\")\n"
   ]
  },
  {
   "cell_type": "code",
   "execution_count": 12,
   "metadata": {},
   "outputs": [
    {
     "name": "stdout",
     "output_type": "stream",
     "text": [
      "Contact Removed\n"
     ]
    },
    {
     "data": {
      "text/plain": [
       "{'bhavani': ['9556328345', 'durgabhavani.vankini@gmail.com']}"
      ]
     },
     "execution_count": 12,
     "metadata": {},
     "output_type": "execute_result"
    }
   ],
   "source": [
    "def removeContact(contacts,name):\n",
    "    if name in contacts:\n",
    "        contacts.pop(name)\n",
    "        print(\"Contact Removed\")\n",
    "    else:\n",
    "        print(\"Contact does not exists\")\n",
    "       \n",
    "    return contacts\n",
    "\n",
    "removeContact(contacts,\"sai1\")"
   ]
  },
  {
   "cell_type": "code",
   "execution_count": 16,
   "metadata": {},
   "outputs": [
    {
     "name": "stdout",
     "output_type": "stream",
     "text": [
      "2 contacts added successfully.\n"
     ]
    },
    {
     "data": {
      "text/plain": [
       "{'bhavani': ['9556328345', 'durgabhavani.vankini@gmail.com'],\n",
       " 'Sai': [9177267818, 'vankini0924@gmail.com'],\n",
       " 'Padma': [897652622, 'padma.vankini@gmail.com']}"
      ]
     },
     "execution_count": 16,
     "metadata": {},
     "output_type": "execute_result"
    }
   ],
   "source": [
    "# newContacts as dictionary\n",
    "# Merge new contacts with existing data\n",
    "def importContacts(contacts,newContacts):\n",
    "    contacts.update(newContacts)\n",
    "    print(len(newContacts.keys()),\"contacts added successfully.\")\n",
    "    return contacts\n",
    "\n",
    "newContacts = {\"Sai\":[9177267818,\"vankini0924@gmail.com\"],\"Padma\":[897652622,\"padma.vankini@gmail.com\"]}\n",
    "importContacts(contacts,newContacts)"
   ]
  },
  {
   "cell_type": "code",
   "execution_count": null,
   "metadata": {},
   "outputs": [],
   "source": []
  },
  {
   "cell_type": "markdown",
   "metadata": {},
   "source": [
    "### File Handling in Python\n",
    "\n",
    "File - Document containing information residing on the permenant storage\n",
    "Types - Text , PDF ,CSV etc\n",
    "\n",
    "File I/O - Channelling I/O data to files\n",
    "\n",
    "Read a file - input from file\n",
    "Write to a file - Output to a file\n",
    "\n",
    "Read / Write file - open(filename,\n"
   ]
  },
  {
   "cell_type": "code",
   "execution_count": 14,
   "metadata": {},
   "outputs": [
    {
     "name": "stdout",
     "output_type": "stream",
     "text": [
      "new Data\n",
      "new Data1\n"
     ]
    }
   ],
   "source": [
    "# Function to read a file\n",
    "\n",
    "def readFile(filename):\n",
    "    f = open(filename,'r')\n",
    "    filedata = f.read()\n",
    "    f.close()  # Manually closing the file\n",
    "    return filedata\n",
    "\n",
    "filename = 'Data Files/data.txt'\n",
    "readFile(filename).split('\\n')\n",
    "\n",
    "def printFileDataLines(filename):\n",
    "    with open(filename,'r') as f:  # To automatically close the file\n",
    "        for line in f:\n",
    "            print(line,end=' ')\n",
    "        \n",
    "    return\n",
    "\n",
    "#printFileDataLines(filename)\n",
    "print(readFile(filename))"
   ]
  },
  {
   "cell_type": "code",
   "execution_count": 15,
   "metadata": {},
   "outputs": [],
   "source": [
    "# Function to write data into a file\n",
    "def writeIntoFile(filaname,filedata):\n",
    "    with open(filename, 'w') as f: # New data writing to the file\n",
    "        f.write(filedata)\n",
    "    return\n",
    "\n",
    "filename = 'Data Files/data.txt'\n",
    "writeIntoFile(filename,\"new Data\")\n",
    "\n",
    "# Function to append data into a file\n",
    "def writeIntoFile(filaname,filedata):\n",
    "    with open(filename, 'a') as f: # New data writing to the file\n",
    "        f.write(filedata)\n",
    "    return\n",
    "\n",
    "filename = 'Data Files/data.txt'\n",
    "writeIntoFile(filename,\"\\nnew Data1\")\n"
   ]
  },
  {
   "cell_type": "code",
   "execution_count": 51,
   "metadata": {},
   "outputs": [
    {
     "data": {
      "text/plain": [
       "{'bhavani': ['8978263439', 'chari.vankini@gmail.com'],\n",
       " 'Sai': [9445168323, 'vankini0924@gmail.com'],\n",
       " 'Padma': [9652445730, 'durgabhavani.vankini@gmail.com']}"
      ]
     },
     "execution_count": 51,
     "metadata": {},
     "output_type": "execute_result"
    }
   ],
   "source": [
    "# Function to save contacts to a file\n",
    "def saveContacts(filaname,filedata):\n",
    "    with open(filename, 'w') as f: # New data writing to the file\n",
    "        for line in filedata:\n",
    "            f.write(line+\",\"+str(filedata[line][0])+\",\"+str(filedata[line][1])+\"\\n\")\n",
    "       # f.writelines(filedata)\n",
    "    return contacts\n",
    "filename = 'Data Files/contacts.csv'\n",
    "filedata = contacts\n",
    "saveContacts(filename,contacts)"
   ]
  },
  {
   "cell_type": "code",
   "execution_count": 56,
   "metadata": {},
   "outputs": [
    {
     "name": "stdout",
     "output_type": "stream",
     "text": [
      "Phone :9445168323\n",
      "Email :vankini0924@gmail.com\n",
      "\n"
     ]
    }
   ],
   "source": [
    "def searchContact(name):\n",
    "    with open(filename,'r') as f:  # To automatically close the file\n",
    "            for line1 in f:\n",
    "                line1 = line1.split(\",\")\n",
    "                if line1[0] == name:\n",
    "                    print(\"Phone :\"+line1[1])\n",
    "                    print(\"Email :\"+line1[2])\n",
    "                \n",
    "        \n",
    "searchContact(\"Sai\")"
   ]
  },
  {
   "cell_type": "code",
   "execution_count": 57,
   "metadata": {},
   "outputs": [
    {
     "name": "stdout",
     "output_type": "stream",
     "text": [
      "bhavani\n",
      " Phone : 8978263439\n",
      " Email : chari.vankini@gmail.com\n",
      "\n",
      "Sai\n",
      " Phone : 9445168323\n",
      " Email : vankini0924@gmail.com\n",
      "\n",
      "Padma\n",
      " Phone : 9652445730\n",
      " Email : durgabhavani.vankini@gmail.com\n",
      "\n"
     ]
    }
   ],
   "source": [
    "def listContacts():\n",
    "    with open(filename,'r') as f:  # To automatically close the file\n",
    "            for line1 in f:\n",
    "                line1 = line1.split(\",\")\n",
    "                print(line1[0])\n",
    "                print(\" Phone :\",line1[1])\n",
    "                print(\" Email :\",line1[2])\n",
    "    return\n",
    "listContacts()"
   ]
  },
  {
   "cell_type": "code",
   "execution_count": null,
   "metadata": {},
   "outputs": [],
   "source": []
  }
 ],
 "metadata": {
  "kernelspec": {
   "display_name": "Python 3",
   "language": "python",
   "name": "python3"
  },
  "language_info": {
   "codemirror_mode": {
    "name": "ipython",
    "version": 3
   },
   "file_extension": ".py",
   "mimetype": "text/x-python",
   "name": "python",
   "nbconvert_exporter": "python",
   "pygments_lexer": "ipython3",
   "version": "3.7.3"
  }
 },
 "nbformat": 4,
 "nbformat_minor": 2
}

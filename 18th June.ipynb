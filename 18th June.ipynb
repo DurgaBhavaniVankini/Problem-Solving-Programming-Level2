{
 "cells": [
  {
   "cell_type": "code",
   "execution_count": null,
   "metadata": {},
   "outputs": [
    {
     "name": "stdout",
     "output_type": "stream",
     "text": [
      "5 3\n",
      "1 2 3 4 5\n",
      "1 5\n",
      "3\n"
     ]
    }
   ],
   "source": [
    "# Play With Numbers\n",
    "\n",
    "def playWithNumbers(li,q1,q2):\n",
    "    li = li.split()\n",
    "    sum = 0\n",
    "    count = 0\n",
    "    for i in range(int(q1)-1,int(q2)):\n",
    "        sum += int(li[i])\n",
    "        count = count + 1\n",
    "    sum1 = sum//count\n",
    "    print(sum1)\n",
    "    return\n",
    "\n",
    "name = input()\n",
    "li = input()\n",
    "le,q = name.split(\" \")\n",
    "for i in range(0,int(q)):\n",
    "    que = input()\n",
    "    q1,q2 = que.split(\" \")\n",
    "    playWithNumbers(li,q1,q2)\n"
   ]
  },
  {
   "cell_type": "code",
   "execution_count": 1,
   "metadata": {},
   "outputs": [
    {
     "name": "stdout",
     "output_type": "stream",
     "text": [
      "2\n",
      "1\n",
      "6\n",
      "YES\n"
     ]
    }
   ],
   "source": [
    "# Prime Factors\n",
    "\n",
    "def findPrimeFactors(P,N):    \n",
    "    sum = 0\n",
    "    for i in range(1,N):       \n",
    "        if(N % i == 0):            \n",
    "            count = 0\n",
    "            for j in range(1,i+1):\n",
    "                if(i % j == 0):                   \n",
    "                    count += 1\n",
    "            if(count == 2):\n",
    "                sum += 1   \n",
    "    if(sum >= P):\n",
    "        print(\"YES\")\n",
    "    else:\n",
    "        print(\"NO\")\n",
    "    return\n",
    "\n",
    "P = int(input())\n",
    "count = int(input())\n",
    "for i in range(0,count):\n",
    "    N = int(input())\n",
    "    findPrimeFactors(P,N)"
   ]
  },
  {
   "cell_type": "code",
   "execution_count": 2,
   "metadata": {},
   "outputs": [
    {
     "name": "stdout",
     "output_type": "stream",
     "text": [
      "11\n"
     ]
    }
   ],
   "source": [
    "def highRemainder(n):\n",
    "    hr = 0\n",
    "    v = n\n",
    "    for i in range(n-1, n//2 ,-1):\n",
    "        r = n % i\n",
    "        if r > hr:\n",
    "            hr = r\n",
    "            v = i\n",
    "    print(v)\n",
    "    return\n",
    "\n",
    "highRemainder(20)"
   ]
  },
  {
   "cell_type": "markdown",
   "metadata": {},
   "source": [
    "## Tuples\n",
    "\n",
    "t1 = ()\n",
    "li = []\n",
    "\n",
    "\n",
    "Difference Between Tuples and Lists\n",
    "\n",
    "* Lists are mutable - can be changed / modified\n",
    "  * Used to Access , Modify, Add, Delete data\n",
    "* Tuples are mutable - cannot be changed once initiated\n",
    "  * Used to access data only\n",
    "  * All Slicing Work\n"
   ]
  },
  {
   "cell_type": "code",
   "execution_count": 11,
   "metadata": {},
   "outputs": [
    {
     "data": {
      "text/plain": [
       "(8, 3, 4, 5)"
      ]
     },
     "execution_count": 11,
     "metadata": {},
     "output_type": "execute_result"
    }
   ],
   "source": [
    "t1 = (1,2,7,8,3,4,5)\n",
    "\n",
    "t1[3] # Accesing the 4th element\n",
    "t1[len(t1)//2:] # Accessing elements from  "
   ]
  },
  {
   "cell_type": "code",
   "execution_count": 12,
   "metadata": {},
   "outputs": [
    {
     "data": {
      "text/plain": [
       "tuple"
      ]
     },
     "execution_count": 12,
     "metadata": {},
     "output_type": "execute_result"
    }
   ],
   "source": [
    "type(t1)"
   ]
  },
  {
   "cell_type": "markdown",
   "metadata": {},
   "source": [
    "### Dictionaries\n",
    "\n",
    "* We can add,modify the dictionary\n",
    "\n",
    "It works on the concept of set - Unique Data\n",
    "\n",
    "Keys , Values\n",
    "\n",
    "* Key is unique identifier for a value\n",
    "* value is data that can be accessed using key\n",
    "\n",
    "\n"
   ]
  },
  {
   "cell_type": "code",
   "execution_count": 29,
   "metadata": {},
   "outputs": [
    {
     "data": {
      "text/plain": [
       "{'a': 'Developer', 'c': 'Durga', 'd': 'Me'}"
      ]
     },
     "execution_count": 29,
     "metadata": {},
     "output_type": "execute_result"
    }
   ],
   "source": [
    "d1 = {\"a\":\"Bhavani\", \"b\":\"Vankini\", \"c\":\"Durga\"}\n",
    "\n",
    "d1[\"a\"] # Accessing the value with key\n",
    "d1.keys() # returns list of all key\n",
    "d1.values() # return list of values\n",
    "d1.items() # return list of tuples of keys and values\n",
    "d1[\"d\"] = \"Me\" # Add new element to the dictionary\n",
    "d1[\"a\"] = \"Developer\" # Updating \n",
    "d1.pop(\"b\") # Removing an element\n",
    "\"a\" in d1\n",
    "d1"
   ]
  },
  {
   "cell_type": "markdown",
   "metadata": {},
   "source": [
    "### Contacts Application\n",
    "\n",
    "* Add Contact\n",
    "* Update Contact\n",
    "* Delete Contact\n",
    "* Search Contact\n",
    "* List All Contacts\n",
    "* Import Contacts\n",
    "\n"
   ]
  },
  {
   "cell_type": "code",
   "execution_count": 37,
   "metadata": {},
   "outputs": [
    {
     "name": "stdout",
     "output_type": "stream",
     "text": [
      "Contact added\n"
     ]
    },
    {
     "data": {
      "text/plain": [
       "{'Bhavani': '3464645'}"
      ]
     },
     "execution_count": 37,
     "metadata": {},
     "output_type": "execute_result"
    }
   ],
   "source": [
    "\n",
    "def addContact(name,number):\n",
    "    contacts = {}\n",
    "    if name not in contacts:\n",
    "        contacts[name] = number\n",
    "        print(\"Contact added\")\n",
    "    else:\n",
    "        print(\"Name is already exists\")\n",
    "    return contacts\n",
    "\n",
    "addContact(\"Bhavani\",\"3464645\")"
   ]
  },
  {
   "cell_type": "code",
   "execution_count": 43,
   "metadata": {},
   "outputs": [
    {
     "name": "stdout",
     "output_type": "stream",
     "text": [
      "Bhavani : 97823657\n"
     ]
    }
   ],
   "source": [
    "def searchContact(name):\n",
    "    if name in contacts:\n",
    "        print(name, \":\",contacts[name])\n",
    "    else:\n",
    "        print(\"Contact does not exists\")\n",
    "        \n",
    "searchContact(\"Bhavani\")"
   ]
  },
  {
   "cell_type": "code",
   "execution_count": 51,
   "metadata": {},
   "outputs": [
    {
     "name": "stdout",
     "output_type": "stream",
     "text": [
      "Bhavani : 97823657\n",
      "Durga : 9653455\n"
     ]
    }
   ],
   "source": [
    "def listContacts(contacts):\n",
    "    for i in contacts:\n",
    "        print(i, \":\",contacts[i])\n",
    "    return\n",
    "listContacts({'Bhavani': '97823657',\"Durga\":\"9653455\"})"
   ]
  },
  {
   "cell_type": "code",
   "execution_count": 59,
   "metadata": {},
   "outputs": [
    {
     "name": "stdout",
     "output_type": "stream",
     "text": [
      "Contact Modified\n"
     ]
    }
   ],
   "source": [
    "def modifyContacts(contacts,name,num):\n",
    "    if name in contacts:\n",
    "        contacts[name] = num\n",
    "        print(\"Contact Modified\")\n",
    "    else:\n",
    "        print(\"Contact does not exists\")\n",
    "    return \n",
    "modifyContacts({'Bhavani': '97823657',\"Durga\":\"9653455\"},\"Bhavani\",\"9652445730\")"
   ]
  },
  {
   "cell_type": "code",
   "execution_count": 60,
   "metadata": {},
   "outputs": [
    {
     "name": "stdout",
     "output_type": "stream",
     "text": [
      "Contact Removed\n"
     ]
    }
   ],
   "source": [
    "def removeContact(contacts,name):\n",
    "    if name in contacts:\n",
    "        contacts.pop(name)\n",
    "        print(\"Contact Removed\")\n",
    "    else:\n",
    "        print(\"Contact does not exists\")\n",
    "       \n",
    "    return \n",
    "\n",
    "removeContact({'Bhavani': '97823657',\"Durga\":\"9653455\"},\"Bhavani\")\n"
   ]
  },
  {
   "cell_type": "code",
   "execution_count": 64,
   "metadata": {},
   "outputs": [
    {
     "name": "stdout",
     "output_type": "stream",
     "text": [
      "2 contacts added successfully.\n"
     ]
    },
    {
     "data": {
      "text/plain": [
       "{'Bhavani': '97823657', 'Sai': 9177267818, 'Padma': 897652622}"
      ]
     },
     "execution_count": 64,
     "metadata": {},
     "output_type": "execute_result"
    }
   ],
   "source": [
    "# newContacts as dictionary\n",
    "# Merge new contacts with existing data\n",
    "def importContacts(newContacts):\n",
    "    contacts.update(newContacts)\n",
    "    print(len(newContacts.keys()),\"contacts added successfully.\")\n",
    "    return contacts\n",
    "\n",
    "newContacts = {\"Sai\":9177267818,\"Padma\":897652622}\n",
    "importContacts(newContacts)\n",
    "    "
   ]
  },
  {
   "cell_type": "markdown",
   "metadata": {},
   "source": [
    "### Packages and Modules\n",
    "\n",
    "Package --> Collection of modules (python file) \n",
    "\n",
    "Module -->  A single python file containing functions\n",
    "\n",
    "Packages --> Subpackages --> Modules --> Functions\n",
    "\n"
   ]
  },
  {
   "cell_type": "code",
   "execution_count": 5,
   "metadata": {},
   "outputs": [
    {
     "data": {
      "text/plain": [
       "3.141592653589793"
      ]
     },
     "execution_count": 5,
     "metadata": {},
     "output_type": "execute_result"
    }
   ],
   "source": [
    "import math\n",
    "\n",
    "math.floor(26336.722)\n",
    "\n",
    "math.pi"
   ]
  },
  {
   "cell_type": "code",
   "execution_count": 14,
   "metadata": {},
   "outputs": [
    {
     "name": "stdout",
     "output_type": "stream",
     "text": [
      "20 67 83 95 11 83 45 38 50 24 "
     ]
    }
   ],
   "source": [
    "import random\n",
    "\n",
    "def generateNRandomNumbers(n,lb,up):\n",
    "    for i in range(0,n):\n",
    "        print(random.randint(lb,up),end = \" \")\n",
    "    return\n",
    "\n",
    "generateNRandomNumbers(10,0,100)"
   ]
  },
  {
   "cell_type": "code",
   "execution_count": 1,
   "metadata": {},
   "outputs": [
    {
     "name": "stdout",
     "output_type": "stream",
     "text": [
      "2\n",
      "1\n",
      "6\n",
      "YES\n"
     ]
    }
   ],
   "source": [
    "from Packages import numerical\n",
    "\n",
    "P = int(input())\n",
    "count = int(input())\n",
    "for i in range(0,count):\n",
    "    N = int(input())\n",
    "    numerical.findPrimeFactors(P,N)"
   ]
  },
  {
   "cell_type": "code",
   "execution_count": null,
   "metadata": {},
   "outputs": [],
   "source": []
  }
 ],
 "metadata": {
  "kernelspec": {
   "display_name": "Python 3",
   "language": "python",
   "name": "python3"
  },
  "language_info": {
   "codemirror_mode": {
    "name": "ipython",
    "version": 3
   },
   "file_extension": ".py",
   "mimetype": "text/x-python",
   "name": "python",
   "nbconvert_exporter": "python",
   "pygments_lexer": "ipython3",
   "version": "3.7.3"
  }
 },
 "nbformat": 4,
 "nbformat_minor": 2
}

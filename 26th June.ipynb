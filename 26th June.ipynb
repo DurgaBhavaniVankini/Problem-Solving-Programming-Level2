{
 "cells": [
  {
   "cell_type": "code",
   "execution_count": 5,
   "metadata": {},
   "outputs": [
    {
     "data": {
      "text/plain": [
       "2"
      ]
     },
     "execution_count": 5,
     "metadata": {},
     "output_type": "execute_result"
    }
   ],
   "source": [
    "def secondLargest(li):\n",
    "    # Convert the list into a unique list\n",
    "    # O(n)\n",
    "    unique = []\n",
    "    for n in li:\n",
    "        if n not in unique:\n",
    "            unique.append(n)\n",
    "    \n",
    "    unique = sorted(unique, reverse=True)\n",
    "    if len(unique) > 1:\n",
    "        return unique[1]\n",
    "    return -1\n",
    "\n",
    "secondLargest([1, 2,2,3,3])"
   ]
  },
  {
   "cell_type": "code",
   "execution_count": 8,
   "metadata": {},
   "outputs": [
    {
     "data": {
      "text/plain": [
       "2"
      ]
     },
     "execution_count": 8,
     "metadata": {},
     "output_type": "execute_result"
    }
   ],
   "source": [
    "def kthLargest(li,k):\n",
    "    unique = []\n",
    "    for i in li:\n",
    "        if i not in unique:\n",
    "            unique.append(i)\n",
    "    unique = sorted(unique,reverse=True)\n",
    "    if len(unique) >= k:\n",
    "        return unique[k-1]\n",
    "    else:\n",
    "        return -1\n",
    "    \n",
    "    \n",
    "kthLargest([1,2,2,4],2)"
   ]
  },
  {
   "cell_type": "code",
   "execution_count": 18,
   "metadata": {},
   "outputs": [
    {
     "data": {
      "text/plain": [
       "-1"
      ]
     },
     "execution_count": 18,
     "metadata": {},
     "output_type": "execute_result"
    }
   ],
   "source": [
    "def kthSmallest(li,k):\n",
    "    unique = []\n",
    "    for i in li:\n",
    "        if i not in unique:\n",
    "            unique.append(i)\n",
    "    unique = sorted(unique)\n",
    "    \n",
    "    if len(unique) >= k :\n",
    "        return unique[k-1]\n",
    "    else:\n",
    "        return -1\n",
    "    \n",
    "    \n",
    "kthSmallest([1,2,2,4],4)"
   ]
  },
  {
   "cell_type": "code",
   "execution_count": null,
   "metadata": {},
   "outputs": [],
   "source": []
  },
  {
   "cell_type": "code",
   "execution_count": 42,
   "metadata": {},
   "outputs": [
    {
     "data": {
      "text/plain": [
       "3"
      ]
     },
     "execution_count": 42,
     "metadata": {},
     "output_type": "execute_result"
    }
   ],
   "source": [
    "def findHighestFrequencyElement(li):\n",
    "    unique = {}\n",
    "    for i in li:\n",
    "        if i in unique:\n",
    "            unique[i] += 1\n",
    "        else:\n",
    "            unique[i] = 1\n",
    "   \n",
    "    maxfreqkeys = []\n",
    "    for j in unique.items():\n",
    "        if j[1] == max(unique.values()):\n",
    "            maxfreqkeys.append(j[0])\n",
    "    \n",
    "    return min(maxfreqkeys)\n",
    "            \n",
    "        \n",
    "        \n",
    "\n",
    "\n",
    "findHighestFrequencyElement([1,3,4,5,2,6,3,8,9])"
   ]
  },
  {
   "cell_type": "code",
   "execution_count": 61,
   "metadata": {},
   "outputs": [
    {
     "name": "stdout",
     "output_type": "stream",
     "text": [
      "s\n",
      "g\n",
      "h\n",
      "e\n",
      "w\n",
      "r\n",
      "n\n",
      "k\n",
      "-1\n",
      "-1\n"
     ]
    }
   ],
   "source": [
    "def kLargestFrequency(s,k):\n",
    "    freq = {}\n",
    "    maxList = []\n",
    "    maxList1 = []\n",
    "    for i in s:\n",
    "        if i not in freq.keys():\n",
    "            freq[i] = s.count(i)\n",
    "          \n",
    "    for j in freq.values():\n",
    "        if j not in maxList:\n",
    "            maxList.append(j)\n",
    "    maxList = sorted(maxList,reverse=True)\n",
    "    \n",
    "    \n",
    "    \n",
    "    if k < len(maxList):\n",
    "        high = maxList[k-1]\n",
    "    else:\n",
    "        return -1\n",
    "    li = []\n",
    "    for item in freq.items():\n",
    "        if high == item[1]:\n",
    "            li.append(item[0])\n",
    "        \n",
    "    \n",
    "    return min(li)       \n",
    "            \n",
    "    \n",
    "\n",
    "\n",
    "with open('Data Files/k-largest-frequency-input.txt', 'r') as f:\n",
    "    t = int(f.readline())    \n",
    "    for i in range(t):\n",
    "        s = f.readline()\n",
    "        k = int(f.readline())\n",
    "        print(kLargestFrequency(s,k))\n",
    "    "
   ]
  },
  {
   "cell_type": "code",
   "execution_count": 3,
   "metadata": {},
   "outputs": [
    {
     "name": "stdout",
     "output_type": "stream",
     "text": [
      "m\n",
      "j\n",
      "c\n",
      "j\n",
      "l\n",
      "b\n",
      "f\n",
      "s\n",
      "-1\n",
      "-1\n"
     ]
    }
   ],
   "source": [
    "def kSmallestFrequency(s,k):\n",
    "    freq = {}\n",
    "    maxList = []\n",
    "    maxList1 = []\n",
    "    for i in s:\n",
    "        if i not in freq.keys():\n",
    "            freq[i] = s.count(i)\n",
    "          \n",
    "    for j in freq.values():\n",
    "        if j not in maxList:\n",
    "            maxList.append(j)\n",
    "    maxList = sorted(maxList)\n",
    "    \n",
    "    \n",
    "    if k < len(maxList):\n",
    "        high = maxList[k-1]\n",
    "    else:\n",
    "        return -1\n",
    "    li = []\n",
    "    for item in freq.items():\n",
    "        if high == item[1]:\n",
    "            li.append(item[0])\n",
    "        \n",
    "    \n",
    "    return min(li)       \n",
    "            \n",
    "    \n",
    "\n",
    "\n",
    "with open('Data Files/k-largest-frequency-input.txt', 'r') as f:\n",
    "    t = int(f.readline())    \n",
    "    for i in range(t):\n",
    "        s = f.readline()\n",
    "        k = int(f.readline())\n",
    "        print(kSmallestFrequency(s,k))"
   ]
  },
  {
   "cell_type": "code",
   "execution_count": null,
   "metadata": {},
   "outputs": [],
   "source": []
  },
  {
   "cell_type": "code",
   "execution_count": null,
   "metadata": {},
   "outputs": [],
   "source": []
  }
 ],
 "metadata": {
  "kernelspec": {
   "display_name": "Python 3",
   "language": "python",
   "name": "python3"
  },
  "language_info": {
   "codemirror_mode": {
    "name": "ipython",
    "version": 3
   },
   "file_extension": ".py",
   "mimetype": "text/x-python",
   "name": "python",
   "nbconvert_exporter": "python",
   "pygments_lexer": "ipython3",
   "version": "3.7.3"
  }
 },
 "nbformat": 4,
 "nbformat_minor": 2
}

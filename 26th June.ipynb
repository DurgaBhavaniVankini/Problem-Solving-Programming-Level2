{
 "cells": [
  {
   "cell_type": "code",
   "execution_count": 5,
   "metadata": {},
   "outputs": [
    {
     "data": {
      "text/plain": [
       "2"
      ]
     },
     "execution_count": 5,
     "metadata": {},
     "output_type": "execute_result"
    }
   ],
   "source": [
    "def secondLargest(li):\n",
    "    # Convert the list into a unique list\n",
    "    # O(n)\n",
    "    unique = []\n",
    "    for n in li:\n",
    "        if n not in unique:\n",
    "            unique.append(n)\n",
    "    \n",
    "    unique = sorted(unique, reverse=True)\n",
    "    if len(unique) > 1:\n",
    "        return unique[1]\n",
    "    return -1\n",
    "\n",
    "secondLargest([1, 2,2,3,3])"
   ]
  },
  {
   "cell_type": "code",
   "execution_count": 8,
   "metadata": {},
   "outputs": [
    {
     "data": {
      "text/plain": [
       "2"
      ]
     },
     "execution_count": 8,
     "metadata": {},
     "output_type": "execute_result"
    }
   ],
   "source": [
    "def kthLargest(li,k):\n",
    "    unique = []\n",
    "    for i in li:\n",
    "        if i not in unique:\n",
    "            unique.append(i)\n",
    "    unique = sorted(unique,reverse=True)\n",
    "    if len(unique) >= k:\n",
    "        return unique[k-1]\n",
    "    else:\n",
    "        return -1\n",
    "    \n",
    "    \n",
    "kthLargest([1,2,2,4],2)"
   ]
  },
  {
   "cell_type": "code",
   "execution_count": 18,
   "metadata": {},
   "outputs": [
    {
     "data": {
      "text/plain": [
       "-1"
      ]
     },
     "execution_count": 18,
     "metadata": {},
     "output_type": "execute_result"
    }
   ],
   "source": [
    "def kthSmallest(li,k):\n",
    "    unique = []\n",
    "    for i in li:\n",
    "        if i not in unique:\n",
    "            unique.append(i)\n",
    "    unique = sorted(unique)\n",
    "    \n",
    "    if len(unique) >= k :\n",
    "        return unique[k-1]\n",
    "    else:\n",
    "        return -1\n",
    "    \n",
    "    \n",
    "kthSmallest([1,2,2,4],4)"
   ]
  },
  {
   "cell_type": "code",
   "execution_count": null,
   "metadata": {},
   "outputs": [],
   "source": [
    "# Function to identify the element with highest frequency in a list\n",
    "# If many elements have the have the highest frequency, return the smallest\n",
    "# highestFrequencyElement([1,2,3,9,8,7,3,4,2,1]) -> 1\n",
    "def highestFrequencyElement(li):\n",
    "    #Extracting unique elements with frequencies\n",
    "    unique = {}\n",
    "    for n in li:\n",
    "        if n in unique:\n",
    "            unique[n] += 1\n",
    "        else:\n",
    "            unique[n] = 1\n",
    "    # unique = {1:2, 2:2, 3:2, 9:1, 8:1, 7:1, 4:1}\n",
    "    maxfreq = max(unique.values())\n",
    "    \n",
    "    #Extract all keys with maxfreq in a list\n",
    "    maxfreqkeys = []\n",
    "    for item in unique.items():\n",
    "        #item -> (key, value)\n",
    "        # item[1]\n",
    "        if item[1] == maxfreq:\n",
    "            maxfreqkeys.append(item[0])\n",
    "    \n",
    "    return min(maxfreqkeys)\n",
    "\n",
    "highestFrequencyElement([1,2,3,9,8,7,3,4,2,1])"
   ]
  },
  {
   "cell_type": "code",
   "execution_count": 42,
   "metadata": {},
   "outputs": [
    {
     "data": {
      "text/plain": [
       "3"
      ]
     },
     "execution_count": 42,
     "metadata": {},
     "output_type": "execute_result"
    }
   ],
   "source": [
    "def findHighestFrequencyElement(li):\n",
    "    unique = {}\n",
    "    for i in li:\n",
    "        if i in unique:\n",
    "            unique[i] += 1\n",
    "        else:\n",
    "            unique[i] = 1\n",
    "   \n",
    "    maxfreqkeys = []\n",
    "    for j in unique.items():\n",
    "        if j[1] == max(unique.values()):\n",
    "            maxfreqkeys.append(j[0])\n",
    "    \n",
    "    return min(maxfreqkeys)\n",
    "            \n",
    "        \n",
    "        \n",
    "\n",
    "\n",
    "findHighestFrequencyElement([1,3,4,5,2,6,3,8,9])"
   ]
  },
  {
   "cell_type": "code",
   "execution_count": 61,
   "metadata": {},
   "outputs": [
    {
     "name": "stdout",
     "output_type": "stream",
     "text": [
      "s\n",
      "g\n",
      "h\n",
      "e\n",
      "w\n",
      "r\n",
      "n\n",
      "k\n",
      "-1\n",
      "-1\n"
     ]
    }
   ],
   "source": [
    "def kLargestFrequency(s,k):\n",
    "    freq = {}\n",
    "    maxList = []\n",
    "    maxList1 = []\n",
    "    for i in s:\n",
    "        if i not in freq.keys():\n",
    "            freq[i] = s.count(i)\n",
    "          \n",
    "    for j in freq.values():\n",
    "        if j not in maxList:\n",
    "            maxList.append(j)\n",
    "    maxList = sorted(maxList,reverse=True)\n",
    "    \n",
    "    \n",
    "    \n",
    "    if k < len(maxList):\n",
    "        high = maxList[k-1]\n",
    "    else:\n",
    "        return -1\n",
    "    li = []\n",
    "    for item in freq.items():\n",
    "        if high == item[1]:\n",
    "            li.append(item[0])\n",
    "        \n",
    "    \n",
    "    return min(li)       \n",
    "            \n",
    "    \n",
    "\n",
    "\n",
    "with open('Data Files/k-largest-frequency-input.txt', 'r') as f:\n",
    "    t = int(f.readline())    \n",
    "    for i in range(t):\n",
    "        s = f.readline()\n",
    "        k = int(f.readline())\n",
    "        print(kLargestFrequency(s,k))\n",
    "    "
   ]
  },
  {
   "cell_type": "code",
   "execution_count": 2,
   "metadata": {},
   "outputs": [
    {
     "name": "stdout",
     "output_type": "stream",
     "text": [
      "[1, 3725, 3731, 3742, 3743, 3774, 3776, 3777, 3793, 3811, 3818, 3832, 3840, 3843, 3849, 3858, 3864, 3879, 3884, 3888, 3892, 3908, 3914, 3926, 3936, 3959, 4038]\n",
      "m\n",
      "[1, 3711, 3727, 3769, 3795, 3797, 3799, 3820, 3821, 3835, 3836, 3858, 3862, 3864, 3865, 3866, 3867, 3870, 3880, 3883, 3886, 3890, 3893, 3931, 3960]\n",
      "j\n",
      "[1, 3707, 3747, 3751, 3784, 3792, 3799, 3801, 3807, 3813, 3819, 3851, 3854, 3861, 3864, 3866, 3868, 3871, 3874, 3881, 3903, 3925, 3936, 3966]\n",
      "c\n",
      "[1, 3714, 3724, 3738, 3747, 3756, 3769, 3813, 3819, 3820, 3822, 3824, 3828, 3831, 3848, 3851, 3877, 3880, 3884, 3885, 3888, 3894, 3901, 3917, 3970, 3984, 4016]\n",
      "j\n",
      "[1, 3746, 3750, 3756, 3772, 3794, 3795, 3802, 3805, 3816, 3826, 3828, 3829, 3831, 3840, 3872, 3878, 3881, 3882, 3887, 3890, 3895, 3900, 3904, 3907, 3940, 3974]\n",
      "l\n",
      "[1, 3760, 3782, 3786, 3787, 3790, 3799, 3801, 3803, 3805, 3810, 3814, 3835, 3838, 3848, 3851, 3853, 3862, 3868, 3881, 3896, 3923, 3928, 3933, 3942, 3952]\n",
      "b\n",
      "[1, 3738, 3741, 3774, 3779, 3785, 3787, 3794, 3811, 3817, 3828, 3846, 3853, 3854, 3868, 3874, 3876, 3877, 3880, 3884, 3893, 3910, 3927, 3958, 3976]\n",
      "f\n",
      "[1, 3752, 3770, 3771, 3777, 3789, 3793, 3804, 3829, 3835, 3842, 3845, 3849, 3854, 3855, 3859, 3864, 3866, 3867, 3868, 3880, 3889, 3909, 3910, 3934, 3947]\n",
      "s\n",
      "[1, 3740, 3750, 3758, 3768, 3777, 3788, 3797, 3809, 3822, 3842, 3843, 3847, 3855, 3862, 3878, 3881, 3885, 3893, 3900, 3902, 3904, 3917, 3927, 3990]\n",
      "-1\n",
      "[1, 3751, 3760, 3766, 3771, 3779, 3782, 3806, 3810, 3817, 3832, 3833, 3834, 3848, 3857, 3859, 3862, 3866, 3881, 3884, 3892, 3894, 3912, 3951, 3952, 3984]\n",
      "-1\n"
     ]
    }
   ],
   "source": [
    "def kSmallestFrequency(s,k):\n",
    "    freq = {}\n",
    "    maxList = []\n",
    "    maxList1 = []\n",
    "    for i in s:\n",
    "        if i not in freq.keys():\n",
    "            freq[i] = s.count(i)\n",
    "          \n",
    "    for j in freq.values():\n",
    "        if j not in maxList:\n",
    "            maxList.append(j)\n",
    "    maxList = sorted(maxList)\n",
    "    \n",
    "    \n",
    "    if k < len(maxList):\n",
    "        high = maxList[k-1]\n",
    "    else:\n",
    "        return -1\n",
    "    li = []\n",
    "    for item in freq.items():\n",
    "        if high == item[1]:\n",
    "            li.append(item[0])\n",
    "        \n",
    "    \n",
    "    return min(li)       \n",
    "            \n",
    "    \n",
    "\n",
    "\n",
    "with open('Data Files/k-largest-frequency-input.txt', 'r') as f:\n",
    "    t = int(f.readline())    \n",
    "    for i in range(t):\n",
    "        s = f.readline()\n",
    "        k = int(f.readline())\n",
    "        print(kSmallestFrequency(s,k))"
   ]
  },
  {
   "cell_type": "code",
   "execution_count": null,
   "metadata": {},
   "outputs": [],
   "source": []
  },
  {
   "cell_type": "code",
   "execution_count": null,
   "metadata": {},
   "outputs": [],
   "source": []
  }
 ],
 "metadata": {
  "kernelspec": {
   "display_name": "Python 3",
   "language": "python",
   "name": "python3"
  },
  "language_info": {
   "codemirror_mode": {
    "name": "ipython",
    "version": 3
   },
   "file_extension": ".py",
   "mimetype": "text/x-python",
   "name": "python",
   "nbconvert_exporter": "python",
   "pygments_lexer": "ipython3",
   "version": "3.7.3"
  }
 },
 "nbformat": 4,
 "nbformat_minor": 2
}

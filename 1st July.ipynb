{
 "cells": [
  {
   "cell_type": "code",
   "execution_count": 51,
   "metadata": {},
   "outputs": [
    {
     "data": {
      "text/html": [
       "<div>\n",
       "<style scoped>\n",
       "    .dataframe tbody tr th:only-of-type {\n",
       "        vertical-align: middle;\n",
       "    }\n",
       "\n",
       "    .dataframe tbody tr th {\n",
       "        vertical-align: top;\n",
       "    }\n",
       "\n",
       "    .dataframe thead th {\n",
       "        text-align: right;\n",
       "    }\n",
       "</style>\n",
       "<table border=\"1\" class=\"dataframe\">\n",
       "  <thead>\n",
       "    <tr style=\"text-align: right;\">\n",
       "      <th></th>\n",
       "      <th>GEOID</th>\n",
       "      <th>State</th>\n",
       "      <th>2005</th>\n",
       "      <th>2006</th>\n",
       "      <th>2007</th>\n",
       "      <th>2008</th>\n",
       "      <th>2009</th>\n",
       "      <th>2010</th>\n",
       "      <th>2011</th>\n",
       "      <th>2012</th>\n",
       "      <th>2013</th>\n",
       "    </tr>\n",
       "  </thead>\n",
       "  <tbody>\n",
       "    <tr>\n",
       "      <th>0</th>\n",
       "      <td>04000US01</td>\n",
       "      <td>Alabama</td>\n",
       "      <td>37150</td>\n",
       "      <td>37952</td>\n",
       "      <td>42212</td>\n",
       "      <td>44476</td>\n",
       "      <td>39980</td>\n",
       "      <td>40933</td>\n",
       "      <td>42590</td>\n",
       "      <td>43464</td>\n",
       "      <td>41381</td>\n",
       "    </tr>\n",
       "    <tr>\n",
       "      <th>1</th>\n",
       "      <td>04000US02</td>\n",
       "      <td>Alaska</td>\n",
       "      <td>55891</td>\n",
       "      <td>56418</td>\n",
       "      <td>62993</td>\n",
       "      <td>63989</td>\n",
       "      <td>61604</td>\n",
       "      <td>57848</td>\n",
       "      <td>57431</td>\n",
       "      <td>63648</td>\n",
       "      <td>61137</td>\n",
       "    </tr>\n",
       "    <tr>\n",
       "      <th>2</th>\n",
       "      <td>04000US04</td>\n",
       "      <td>Arizona</td>\n",
       "      <td>45245</td>\n",
       "      <td>46657</td>\n",
       "      <td>47215</td>\n",
       "      <td>46914</td>\n",
       "      <td>45739</td>\n",
       "      <td>46896</td>\n",
       "      <td>48621</td>\n",
       "      <td>47044</td>\n",
       "      <td>50602</td>\n",
       "    </tr>\n",
       "    <tr>\n",
       "      <th>3</th>\n",
       "      <td>04000US05</td>\n",
       "      <td>Arkansas</td>\n",
       "      <td>36658</td>\n",
       "      <td>37057</td>\n",
       "      <td>40795</td>\n",
       "      <td>39586</td>\n",
       "      <td>36538</td>\n",
       "      <td>38587</td>\n",
       "      <td>41302</td>\n",
       "      <td>39018</td>\n",
       "      <td>39919</td>\n",
       "    </tr>\n",
       "    <tr>\n",
       "      <th>4</th>\n",
       "      <td>04000US06</td>\n",
       "      <td>California</td>\n",
       "      <td>51755</td>\n",
       "      <td>55319</td>\n",
       "      <td>55734</td>\n",
       "      <td>57014</td>\n",
       "      <td>56134</td>\n",
       "      <td>54283</td>\n",
       "      <td>53367</td>\n",
       "      <td>57020</td>\n",
       "      <td>57528</td>\n",
       "    </tr>\n",
       "  </tbody>\n",
       "</table>\n",
       "</div>"
      ],
      "text/plain": [
       "       GEOID       State   2005   2006   2007   2008   2009   2010   2011  \\\n",
       "0  04000US01     Alabama  37150  37952  42212  44476  39980  40933  42590   \n",
       "1  04000US02      Alaska  55891  56418  62993  63989  61604  57848  57431   \n",
       "2  04000US04     Arizona  45245  46657  47215  46914  45739  46896  48621   \n",
       "3  04000US05    Arkansas  36658  37057  40795  39586  36538  38587  41302   \n",
       "4  04000US06  California  51755  55319  55734  57014  56134  54283  53367   \n",
       "\n",
       "    2012   2013  \n",
       "0  43464  41381  \n",
       "1  63648  61137  \n",
       "2  47044  50602  \n",
       "3  39018  39919  \n",
       "4  57020  57528  "
      ]
     },
     "execution_count": 51,
     "metadata": {},
     "output_type": "execute_result"
    }
   ],
   "source": [
    "filepath = 'DataFiles/Income.csv'\n",
    "import pandas as pd\n",
    "def readCSVdata(filepath):\n",
    "    return pd.read_csv(filepath)\n",
    "    \n",
    "readCSVdata(filepath)"
   ]
  },
  {
   "cell_type": "code",
   "execution_count": 53,
   "metadata": {},
   "outputs": [],
   "source": [
    "incomedf = readCSVdata(filepath)"
   ]
  },
  {
   "cell_type": "code",
   "execution_count": 56,
   "metadata": {},
   "outputs": [
    {
     "name": "stdout",
     "output_type": "stream",
     "text": [
      "48525\n"
     ]
    }
   ],
   "source": [
    "# Function to find Average Income of all states from 2005 to 2013\n",
    "def averageIncome(df):\n",
    "    comAvg = 0\n",
    "    sum = 0\n",
    "    count = 0\n",
    "    for item in df.values: \n",
    "        for i in range(2,len(item)):\n",
    "            sum += int(item[i])\n",
    "            count += 1\n",
    "    print(sum//count)\n",
    "\n",
    "averageIncome(incomedf)"
   ]
  },
  {
   "cell_type": "code",
   "execution_count": 57,
   "metadata": {},
   "outputs": [
    {
     "name": "stdout",
     "output_type": "stream",
     "text": [
      "Alaska\n"
     ]
    }
   ],
   "source": [
    "# Function to find State with highest average income in the last three years\n",
    "def lastThreeYearsAverage(df):\n",
    "    li = {}\n",
    "    for item in df.values: \n",
    "        sum = 0\n",
    "        count = 0        \n",
    "        for i in range(len(item)-3,len(item)):\n",
    "            sum += int(item[i])\n",
    "            count += 1\n",
    "        \n",
    "        li[item[1]] = sum//count  \n",
    "        \n",
    "    li1 = [i for i in li.values()]\n",
    "    st = [i[0] for i in li.items() if max(li1) == i[1]]\n",
    "    print(st[0])\n",
    "\n",
    "\n",
    "lastThreeYearsAverage(incomedf)\n"
   ]
  },
  {
   "cell_type": "code",
   "execution_count": 58,
   "metadata": {},
   "outputs": [
    {
     "name": "stdout",
     "output_type": "stream",
     "text": [
      "Arkansas\n"
     ]
    }
   ],
   "source": [
    "# Function to find State with lowest average income from 2007 to 2010(inclusive)\n",
    "def getColumnIndex(df,columnkey):\n",
    "    for i in range(len(df.columns)):\n",
    "        if df.columns[i] == columnkey:\n",
    "            columnindex = i\n",
    "    return columnindex\n",
    "\n",
    "def rangeAverageIncome(df,lb,ub):\n",
    "    columnindex = getColumnIndex(df,lb) \n",
    "    avgList = {}\n",
    "    for item in df.values:\n",
    "        sum = 0\n",
    "        count = 0\n",
    "        for i in range(columnindex,columnindex+(int(ub)-int(lb))+1):\n",
    "            columnindex = i\n",
    "            sum += item[columnindex]\n",
    "            count += 1\n",
    "        avgList[item[1]]=sum//count\n",
    "        columnindex = getColumnIndex(df,lb)\n",
    "    Avg = [i for i in avgList.values()]\n",
    "    st = [i[0] for i in avgList.items() if min(Avg) == i[1]]\n",
    "    print(st[0])\n",
    "        \n",
    "   \n",
    "    \n",
    "\n",
    "lb='2007'\n",
    "ub='2010'\n",
    "rangeAverageIncome(incomedf,lb,ub)"
   ]
  },
  {
   "cell_type": "code",
   "execution_count": 59,
   "metadata": {},
   "outputs": [
    {
     "name": "stdout",
     "output_type": "stream",
     "text": [
      "Alabama Arizona Arkansas "
     ]
    }
   ],
   "source": [
    "# Print the list of all states in the same line with average income less than California\n",
    "def averageIncome(item):\n",
    "    sum = 0\n",
    "    count = 0\n",
    "    for i in range(2,len(item)):\n",
    "        sum += int(item[i])\n",
    "        count += 1\n",
    "       \n",
    "    return sum//count \n",
    "\n",
    "def findLesser(df):\n",
    "    avgDict = {}\n",
    "    for item in df.values: \n",
    "        avgDict[item[1]] = averageIncome(item)\n",
    "    st = [i[1] for i in avgDict.items() if i[0] == 'California']\n",
    "    \n",
    "    finalList = [i[0] for i in avgDict.items() if i[1] < st[0]]\n",
    "    for i in finalList:\n",
    "        print(i,end=' ')\n",
    "\n",
    "\n",
    "findLesser(incomedf)"
   ]
  },
  {
   "cell_type": "code",
   "execution_count": 60,
   "metadata": {},
   "outputs": [
    {
     "name": "stdout",
     "output_type": "stream",
     "text": [
      "Alaska\n",
      "California\n",
      "Arizona\n",
      "Alabama\n",
      "Arkansas\n"
     ]
    }
   ],
   "source": [
    "# Print the names of states based on descending order of income in the year 2009\n",
    "def descendingOrderIncome(df,year):\n",
    "    columnindex = getColumnIndex(df,year) \n",
    "    avgList = {}\n",
    "    for item in df.values:\n",
    "        avgList[item[1]] = item[columnindex]\n",
    "    li = sorted(avgList.values(),reverse=True)\n",
    "    for j in li:\n",
    "        for i in avgList.items():        \n",
    "            if i[1] == j:\n",
    "                print(i[0])\n",
    "    \n",
    "\n",
    "descendingOrderIncome(incomedf,'2009')"
   ]
  },
  {
   "cell_type": "code",
   "execution_count": 61,
   "metadata": {},
   "outputs": [
    {
     "name": "stdout",
     "output_type": "stream",
     "text": [
      "Alabama 37150\n",
      "Alaska 55891\n",
      "Arizona 45245\n",
      "Arkansas 36538\n",
      "California 51755\n"
     ]
    }
   ],
   "source": [
    "# Function to find State with the lowest recorded income from 2005 to 2013\n",
    "def lowestRecord(df):\n",
    "    for item in df.values:\n",
    "        print(item[1],end=' ')\n",
    "        li=[]\n",
    "        for i in range(2,len(item)):            \n",
    "            li.append(item[i])\n",
    "        print(min(li))\n",
    "lowestRecord(incomedf)"
   ]
  },
  {
   "cell_type": "code",
   "execution_count": 62,
   "metadata": {},
   "outputs": [
    {
     "name": "stdout",
     "output_type": "stream",
     "text": [
      "Arkansas 36538\n"
     ]
    }
   ],
   "source": [
    "# Function to find State with the lowest recorded income from 2005 to 2013\n",
    "def lowestRecord(df):\n",
    "    inc = 0\n",
    "    state = ''\n",
    "    for item in df.values:        \n",
    "        li=[]\n",
    "        for i in range(2,len(item)):            \n",
    "            li.append(item[i]) \n",
    "        if inc == 0:\n",
    "            inc = min(li)\n",
    "            state = item[1]\n",
    "        elif inc > min(li) and inc != 0:            \n",
    "            inc = min(li)\n",
    "            state = item[1]\n",
    "        \n",
    "            \n",
    "            \n",
    "    print(state,inc)\n",
    "lowestRecord(incomedf)"
   ]
  },
  {
   "cell_type": "code",
   "execution_count": 48,
   "metadata": {},
   "outputs": [
    {
     "name": "stdout",
     "output_type": "stream",
     "text": [
      "Durga\n"
     ]
    }
   ],
   "source": [
    "d = {'name':'Durga','age':22}\n",
    "for item in d.items():\n",
    "    if item[0] == 'name':\n",
    "        print(item[1])\n",
    "    \n",
    "    "
   ]
  },
  {
   "cell_type": "code",
   "execution_count": null,
   "metadata": {},
   "outputs": [],
   "source": []
  }
 ],
 "metadata": {
  "kernelspec": {
   "display_name": "Python 3",
   "language": "python",
   "name": "python3"
  },
  "language_info": {
   "codemirror_mode": {
    "name": "ipython",
    "version": 3
   },
   "file_extension": ".py",
   "mimetype": "text/x-python",
   "name": "python",
   "nbconvert_exporter": "python",
   "pygments_lexer": "ipython3",
   "version": "3.7.3"
  }
 },
 "nbformat": 4,
 "nbformat_minor": 2
}
